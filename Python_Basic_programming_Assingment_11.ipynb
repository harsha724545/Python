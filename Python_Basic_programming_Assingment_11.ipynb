{
 "cells": [
  {
   "cell_type": "code",
   "execution_count": 6,
   "id": "2f8fb17c",
   "metadata": {},
   "outputs": [
    {
     "name": "stdout",
     "output_type": "stream",
     "text": [
      "Enter paragraph :This is my programming skill to improving day by day \n",
      "Enter the length of K3\n",
      "This words are more than 3 : This\n",
      "This words are more than 3 : programming\n",
      "This words are more than 3 : skill\n",
      "This words are more than 3 : improving\n"
     ]
    }
   ],
   "source": [
    "#1. Write a Python program to find words which are greater than given length k?\n",
    "def lengthK(s,k):\n",
    "    p=s.split()\n",
    "    for i in p:\n",
    "        if len(i)>k:\n",
    "            print(f\"This words are more than {k} :\",i)\n",
    "    \n",
    "s=input(\"Enter paragraph :\")\n",
    "k=int(input(\"Enter the length of K :\"))\n",
    "re=lengthK(s,k)"
   ]
  },
  {
   "cell_type": "code",
   "execution_count": 13,
   "id": "03e17b0b",
   "metadata": {},
   "outputs": [
    {
     "name": "stdout",
     "output_type": "stream",
     "text": [
      "Enter paragraph :shivaprasadreddy\n",
      "Enter the length of K :1\n",
      "Removed 1 character : sivaprasadreddy\n"
     ]
    }
   ],
   "source": [
    "#2. Write a Python program for removing i-th character from a string?\n",
    "def lengthK(s,k):\n",
    "    for i in range(len(s)):\n",
    "        if i==k:\n",
    "            a=s.replace(s[k],\"\")\n",
    "            return a\n",
    "s=input(\"Enter paragraph :\")\n",
    "k=int(input(\"Enter the length of K :\"))\n",
    "re=lengthK(s,k)\n",
    "print(f\"Removed {k} character :\",re)\n"
   ]
  },
  {
   "cell_type": "code",
   "execution_count": 16,
   "id": "24a3863e",
   "metadata": {},
   "outputs": [
    {
     "name": "stdout",
     "output_type": "stream",
     "text": [
      "Enter paragraph :Shiva prasad Reddy\n",
      "The split : ['Shiva', 'prasad', 'Reddy']\n",
      "The join : Shiva-prasad-Reddy\n"
     ]
    }
   ],
   "source": [
    "#3. Write a Python program to split and join a string?\n",
    "def SplitJoin(s):\n",
    "    p=s.split()\n",
    "    print(\"The split :\",p)\n",
    "    w=\"-\".join(p)\n",
    "    print(\"The join :\",w)\n",
    "s=input(\"Enter paragraph :\")\n",
    "re=SplitJoin(s)"
   ]
  },
  {
   "cell_type": "code",
   "execution_count": 63,
   "id": "901526b5",
   "metadata": {},
   "outputs": [
    {
     "name": "stdout",
     "output_type": "stream",
     "text": [
      "Enter paragraph :101001\n",
      "Binary\n"
     ]
    }
   ],
   "source": [
    "#4. Write a Python to check if a given string is binary string or not?\n",
    "def Binary(s):\n",
    "    l=[]\n",
    "    for i in s:\n",
    "        if i ==\"0\"  or i==\"1\":\n",
    "            l.append(1)\n",
    "        else:\n",
    "            l.append(2)\n",
    "    p=sorted(set(l))\n",
    "    if len(p)==1:\n",
    "        return \"Binary\"\n",
    "    else:\n",
    "        return \"Not a Binary\"\n",
    "s=input(\"Enter paragraph :\")\n",
    "re=Binary(s)\n",
    "print(re)"
   ]
  },
  {
   "cell_type": "code",
   "execution_count": 64,
   "id": "581b087f",
   "metadata": {},
   "outputs": [
    {
     "name": "stdout",
     "output_type": "stream",
     "text": [
      "Enter paragraph :mallapalli shiva prasad reddy\n",
      "Enter the 2nd paragraph :vijaya mallapalli\n",
      "The uncommon words are : ['shiva', 'prasad', 'reddy', 'vijaya']\n"
     ]
    }
   ],
   "source": [
    "#5. Write a Python program to find uncommon words from two Strings?\n",
    "import collections as c\n",
    "def Uncommon(s,k):\n",
    "    l,l1=[],[]\n",
    "    for i in s.split():\n",
    "        l.append(i)\n",
    "    for i in k.split():\n",
    "        l.append(i)\n",
    "    s1=c.Counter(l)\n",
    "    for i in s1:\n",
    "        if s1[i]==1:\n",
    "            l1.append(i)\n",
    "    return l1\n",
    "s=input(\"Enter paragraph :\")\n",
    "k=input(\"Enter the 2nd paragraph :\")\n",
    "re=Uncommon(s,k)\n",
    "print(\"The uncommon words are :\",re)"
   ]
  },
  {
   "cell_type": "code",
   "execution_count": 66,
   "id": "e9d7ca55",
   "metadata": {},
   "outputs": [
    {
     "name": "stdout",
     "output_type": "stream",
     "text": [
      "Enter paragraph :vijaya shivaprasadreddy\n",
      "The duplicate characters are : ['v', 'i', 'a', 'y', 's', 'r', 'd']\n"
     ]
    }
   ],
   "source": [
    "#6. Write a Python to find all duplicate characters in string?\n",
    "import collections as c\n",
    "def Duplicate(s):\n",
    "    q=c.Counter(s)\n",
    "    l=[i for i in q if q[i]>1]\n",
    "    return l\n",
    "s=input(\"Enter paragraph :\")\n",
    "re=Duplicate(s)\n",
    "print(\"The duplicate characters are :\",re)"
   ]
  },
  {
   "cell_type": "code",
   "execution_count": 73,
   "id": "eadd39dc",
   "metadata": {},
   "outputs": [
    {
     "name": "stdout",
     "output_type": "stream",
     "text": [
      "Enter paragraph :shiav==prasad=vijaya\n",
      "Paragraph is having special characters...!\n"
     ]
    }
   ],
   "source": [
    "#7. Write a Python Program to check if a string contains any special character?\n",
    "import re\n",
    "def Special(s):\n",
    "    r = re.compile('[@_!#$%^&*()=<>?/\\|}{~:]')\n",
    "    if(r.search(s) == None):\n",
    "        return \"Paragraph is not having special characters\"\n",
    "    else:\n",
    "        return \"Paragraph is having special characters...!\"\n",
    "s=input(\"Enter paragraph :\")\n",
    "re=Special(s)\n",
    "print(re)"
   ]
  },
  {
   "cell_type": "code",
   "execution_count": null,
   "id": "0bb61c23",
   "metadata": {},
   "outputs": [],
   "source": []
  },
  {
   "cell_type": "code",
   "execution_count": null,
   "id": "5ddd8365",
   "metadata": {},
   "outputs": [],
   "source": []
  }
 ],
 "metadata": {
  "kernelspec": {
   "display_name": "Python 3 (ipykernel)",
   "language": "python",
   "name": "python3"
  },
  "language_info": {
   "codemirror_mode": {
    "name": "ipython",
    "version": 3
   },
   "file_extension": ".py",
   "mimetype": "text/x-python",
   "name": "python",
   "nbconvert_exporter": "python",
   "pygments_lexer": "ipython3",
   "version": "3.9.7"
  }
 },
 "nbformat": 4,
 "nbformat_minor": 5
}
