{
 "cells": [
  {
   "cell_type": "code",
   "execution_count": 6,
   "id": "08764657",
   "metadata": {},
   "outputs": [
    {
     "name": "stdout",
     "output_type": "stream",
     "text": [
      "100 150 180\n",
      "[18, 22, 24]\n"
     ]
    }
   ],
   "source": [
    "# Write a program that calculates and prints the value according to the given formula: Q = Square root of [(2 * C * D)/H]\n",
    "# Following are the fixed values of C and H:\n",
    "# C is 50. H is 30. D is the variable whose values should be input to your program in a comma-separated sequence.\n",
    "\n",
    "import math\n",
    "def cal(d):\n",
    "    c,h=50,30\n",
    "    l=[]\n",
    "    for i in d:\n",
    "        q=math.sqrt((2*c*i)/h)\n",
    "        l.append(round(q))\n",
    "    return l\n",
    "d=list(map(int,input().split()))\n",
    "re=cal(d)\n",
    "print(re)"
   ]
  },
  {
   "cell_type": "code",
   "execution_count": 61,
   "id": "ea690a85",
   "metadata": {},
   "outputs": [
    {
     "name": "stdout",
     "output_type": "stream",
     "text": [
      "enter row :3\n",
      "enter columns :5\n",
      "[[0, 0, 0, 0, 0], [0, 1, 2, 3, 4], [0, 2, 4, 6, 8]]\n"
     ]
    }
   ],
   "source": [
    "#Write a program which takes 2 digits, X,Y as input and generates a 2-dimensional array.\n",
    "#The element value in the i-th row and j-th column of the array should be i*j.\n",
    "def matrx(r,c):\n",
    "    l=[[j for j in range(c)] for i in range(r)]\n",
    "    for i in range(r):\n",
    "        for j in range(c):\n",
    "            l[i][j]= i*j\n",
    "    return l\n",
    "r=int(input(\"enter row :\"))\n",
    "c=int(input(\"enter columns :\"))\n",
    "re=matrx(r,c)\n",
    "print(re)"
   ]
  },
  {
   "cell_type": "code",
   "execution_count": 71,
   "id": "6403fe52",
   "metadata": {},
   "outputs": [
    {
     "name": "stdout",
     "output_type": "stream",
     "text": [
      "Enter the paragraph :shiva had a huge, crush on his, classmate, in school days\n",
      " classmate, crush on his, in school days,shiva had a huge\n"
     ]
    }
   ],
   "source": [
    "#Write a program that accepts a comma separated sequence of words as input and prints thewords in a comma-separated sequence after sorting them alphabetically.\n",
    "def commaS(w):\n",
    "    n=[i for i in w.split(\",\")]\n",
    "    return \",\".join(sorted(list(set(n))))\n",
    "w=input(\"Enter the paragraph :\")\n",
    "re=commaS(w)\n",
    "print(re)\n"
   ]
  },
  {
   "cell_type": "code",
   "execution_count": 73,
   "id": "ea44e682",
   "metadata": {},
   "outputs": [
    {
     "name": "stdout",
     "output_type": "stream",
     "text": [
      "Enter the paragraph :hello world and practice makes perfect and hello world again\n",
      "again and hello makes perfect practice world\n"
     ]
    }
   ],
   "source": [
    "#Write a program that accepts a sequence of whitespace separated words as input and prints the words after removing all duplicate words and sorting them alphanumerically.\n",
    "def Spaces(w):\n",
    "    n=[i for i in w.split(\" \")]\n",
    "    return \" \".join(sorted(list(set(n))))\n",
    "w=input(\"Enter the paragraph :\")\n",
    "re=Spaces(w)\n",
    "print(re)\n"
   ]
  },
  {
   "cell_type": "code",
   "execution_count": 80,
   "id": "2c9104b5",
   "metadata": {},
   "outputs": [
    {
     "name": "stdout",
     "output_type": "stream",
     "text": [
      "Enter the paragraph :shiva845292!\n",
      "Letter count is : 5\n",
      "Numbers count is : 6\n"
     ]
    }
   ],
   "source": [
    "#Write a program that accepts a sentence and calculate the number of letters and digits. Suppose the following input is supplied to the program:\n",
    "def calDN(w):\n",
    "    c=m=0\n",
    "    for i in n:\n",
    "        if i.isalpha():\n",
    "            c+=1\n",
    "        elif i.isalnum():\n",
    "            m+=1\n",
    "        else:\n",
    "            pass\n",
    "    print(\"Letter count is :\",c)\n",
    "    print(\"Numbers count is :\",m)\n",
    "w=input(\"Enter the paragraph :\")\n",
    "re=calDN(w)"
   ]
  },
  {
   "cell_type": "code",
   "execution_count": 3,
   "id": "98d4558e",
   "metadata": {},
   "outputs": [
    {
     "name": "stdout",
     "output_type": "stream",
     "text": [
      "Type in: Shiv@845292\n",
      "The valid password is : Shiv@845292\n"
     ]
    }
   ],
   "source": [
    "#A website requires the users to input username and password to register. Write a program to check the validity of password input by users.\n",
    "# Following are the criteria for checking the password:\n",
    "# 1. At least 1 letter between [a-z]\n",
    "# 2. At least 1 number between [0-9]\n",
    "# 1. At least 1 letter between [A-Z]\n",
    "# 3. At least 1 character from [$#@]\n",
    "# 4. Minimum length of transaction password: 6\n",
    "# 5. Maximum length of transaction password: 12\n",
    "import re\n",
    "def password(passwords):   \n",
    "    for i in passwords:\n",
    "        if len(i) > 6 and len(i) < 12 and re.search(\"([a-z])+\", i) and re.search(\"([A-Z])\", i) and re.search(\"[0-9]\",i) and re.search(\"([@$#])\", i) and re.search(\"[^\\\\s-]\", i) and re.search(\"([^!%&*()_+}{|\\?<>=-])\", i):\n",
    "            print(\"The valid password is :\",i)\n",
    "        else:\n",
    "            print (\"Invalid Password\",i)\n",
    "                \n",
    "    \n",
    "passwords = input(\"Type in: \")\n",
    "passwords = [i for i in passwords.split(\",\")]\n",
    "re=password(passwords)"
   ]
  },
  {
   "cell_type": "code",
   "execution_count": null,
   "id": "4b07911c",
   "metadata": {},
   "outputs": [],
   "source": []
  },
  {
   "cell_type": "code",
   "execution_count": null,
   "id": "05778e06",
   "metadata": {},
   "outputs": [],
   "source": []
  }
 ],
 "metadata": {
  "kernelspec": {
   "display_name": "Python 3 (ipykernel)",
   "language": "python",
   "name": "python3"
  },
  "language_info": {
   "codemirror_mode": {
    "name": "ipython",
    "version": 3
   },
   "file_extension": ".py",
   "mimetype": "text/x-python",
   "name": "python",
   "nbconvert_exporter": "python",
   "pygments_lexer": "ipython3",
   "version": "3.9.7"
  }
 },
 "nbformat": 4,
 "nbformat_minor": 5
}
