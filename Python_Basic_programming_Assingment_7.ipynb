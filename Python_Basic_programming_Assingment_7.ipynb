{
 "cells": [
  {
   "cell_type": "code",
   "execution_count": 66,
   "id": "1c189c4c",
   "metadata": {},
   "outputs": [
    {
     "name": "stdout",
     "output_type": "stream",
     "text": [
      "enter 'i' for integers and 'u' for charu\n",
      "q w e  r t y\n",
      "The sum of arry is array('u', 'qwerty'):  qwerty\n"
     ]
    }
   ],
   "source": [
    "#1. Write a Python Program to find sum of array?\n",
    "import array as arr\n",
    "def sum_arry(l):\n",
    "    c=0\n",
    "    for i in l:\n",
    "        #print(i)\n",
    "        c=c+i\n",
    "        #print(c)\n",
    "    return c\n",
    "def sum_str(l):\n",
    "    c=\" \"\n",
    "    for i in l:\n",
    "        c=c+i\n",
    "        #print(c)\n",
    "    return c\n",
    "try:    \n",
    "    m=input(\"enter 'i' for integers and 'u' for char\")\n",
    "    if m== \"i\":\n",
    "        l=arr.array(\"i\",list(map(int,input().split())))\n",
    "        p=sum_arry(l)\n",
    "        print(f\"The sum of arry is {l}:\",p)\n",
    "    elif m==\"u\":\n",
    "        l=arr.array(\"u\",list(map(str,input().split())))\n",
    "        p=sum_str(l)\n",
    "        print(f\"The sum of arry is {l}:\",p)\n",
    "except Exception as e:\n",
    "    print(\"Invalide :\",e)\n",
    "#print(l, end=\"\")"
   ]
  },
  {
   "cell_type": "code",
   "execution_count": 71,
   "id": "5dc47124",
   "metadata": {},
   "outputs": [
    {
     "name": "stdout",
     "output_type": "stream",
     "text": [
      "enter 'i' for integers and 'u' for char :u\n",
      "q w e r t y z\n",
      "The largest  of arry is array('u', 'qwertyz'): z\n"
     ]
    }
   ],
   "source": [
    "#2. Write a Python Program to find largest element in an array?\n",
    "import array as arr\n",
    "def lar_arry(l):\n",
    "    c=sorted(l)\n",
    "    return c[-1]\n",
    "def lar_str(l):\n",
    "    c=sorted(l)\n",
    "    return c[-1]\n",
    "\n",
    "try:    \n",
    "    m=input(\"enter 'i' for integers and 'u' for char :\")\n",
    "    if m == \"i\":\n",
    "        l=arr.array(\"i\",list(map(int,input().split())))\n",
    "        p=lar_arry(l)\n",
    "        print(f\"The largest of arry is {l}:\",p)\n",
    "    elif m == \"u\":\n",
    "        l=arr.array(\"u\",list(map(str,input().split())))\n",
    "        p=lar_str(l)\n",
    "        print(f\"The largest  of arry is {l}:\",p)\n",
    "except Exception as e:\n",
    "    print(\"Invalide :\",e)"
   ]
  },
  {
   "cell_type": "code",
   "execution_count": 79,
   "id": "bcaade99",
   "metadata": {},
   "outputs": [
    {
     "name": "stdout",
     "output_type": "stream",
     "text": [
      "1 2 34 5 6 7\n",
      "Enter the position that should rotate :2\n",
      "The largest of arry is array('i', [1, 2, 34, 5, 6, 7]): array('i', [34, 5, 6, 7, 1, 2])\n"
     ]
    }
   ],
   "source": [
    "#Write a Python Program for array rotation?\n",
    "import array as arr\n",
    "def rot_arry(l):\n",
    "    return l[n:]+l[0:n]\n",
    "# m=input(\"enter 'i' for integers and 'u' for char :\")\n",
    "# if m == \"i\":\n",
    "l=arr.array(\"i\",list(map(int,input().split())))\n",
    "n=int(input(\"Enter the position that should rotate :\"))\n",
    "p=rot_arry(l)\n",
    "print(f\"The rotation of arry is {l}:\",p)\n",
    "#     elif m == \"u\":\n",
    "#         l=arr.array(\"u\",list(map(str,input().split())))\n",
    "#         p=lar_str(l)\n",
    "#         print(f\"The largest  of arry is {l}:\",p)\n",
    "# except Exception as e:\n",
    "#     print(\"Invalide :\",e)"
   ]
  },
  {
   "cell_type": "code",
   "execution_count": 80,
   "id": "aecf9f7e",
   "metadata": {},
   "outputs": [
    {
     "name": "stdout",
     "output_type": "stream",
     "text": [
      "1 3 4 5 6 7 8 9 \n",
      "Enter the position that should split requried  :3\n",
      "The rotation of arry is array('i', [1, 3, 4, 5, 6, 7, 8, 9]): array('i', [5, 6, 7, 8, 9, 1, 3, 4])\n"
     ]
    }
   ],
   "source": [
    "#4. Write a Python Program to Split the array and add the first part to the end?\n",
    "import array as arr\n",
    "def rot_arry(l):\n",
    "    return l[n:]+l[0:n]\n",
    "# m=input(\"enter 'i' for integers and 'u' for char :\")\n",
    "# if m == \"i\":\n",
    "l=arr.array(\"i\",list(map(int,input().split())))\n",
    "n=int(input(\"Enter the position that should split requried  :\"))\n",
    "p=rot_arry(l)\n",
    "print(f\"The rotation of arry is {l}:\",p)\n",
    "\n",
    "\n"
   ]
  },
  {
   "cell_type": "code",
   "execution_count": 97,
   "id": "726d4e5e",
   "metadata": {},
   "outputs": [
    {
     "name": "stdout",
     "output_type": "stream",
     "text": [
      "1 2 3 4  56 7 8 9 \n",
      "The rotation of arry is array('i', [1, 2, 3, 4, 56, 7, 8, 9]): False\n"
     ]
    }
   ],
   "source": [
    "#5. Write a Python Program to check if given array is Monotonic?\n",
    "import array as arr\n",
    "def mono_arry(l):\n",
    "    return (all(l[i]<=l[i+1] for i in range(len(l)-1)) or \n",
    "            all(l[i]>=l[i+1] for i in range(len(l)-1)))\n",
    "l=arr.array(\"i\",list(map(int,input().split())))\n",
    "#n=int(input(\"Enter the position that should split requried  :\"))\n",
    "p=mono_arry(l)\n",
    "print(f\"The rotation of arry is {l}:\",p)"
   ]
  },
  {
   "cell_type": "code",
   "execution_count": null,
   "id": "e970a88d",
   "metadata": {},
   "outputs": [],
   "source": []
  }
 ],
 "metadata": {
  "kernelspec": {
   "display_name": "Python 3 (ipykernel)",
   "language": "python",
   "name": "python3"
  },
  "language_info": {
   "codemirror_mode": {
    "name": "ipython",
    "version": 3
   },
   "file_extension": ".py",
   "mimetype": "text/x-python",
   "name": "python",
   "nbconvert_exporter": "python",
   "pygments_lexer": "ipython3",
   "version": "3.9.7"
  }
 },
 "nbformat": 4,
 "nbformat_minor": 5
}
