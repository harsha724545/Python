{
 "cells": [
  {
   "cell_type": "code",
   "execution_count": 1,
   "id": "8241f347",
   "metadata": {},
   "outputs": [
    {
     "data": {
      "text/plain": [
       "matrix([[5, 5, 5, 5]])"
      ]
     },
     "execution_count": 1,
     "metadata": {},
     "output_type": "execute_result"
    }
   ],
   "source": [
    "\"\"\"1. Write a Python Program to Add Two Matrices?\"\"\"\n",
    "import numpy\n",
    "def add_matrices(l,m):\n",
    "    n=numpy.matrix(l)\n",
    "    m=numpy.matrix(m)\n",
    "    return n+m\n",
    "add_matrices([1,2,3,4],[4,3,2,1])"
   ]
  },
  {
   "cell_type": "code",
   "execution_count": 4,
   "id": "b592e680",
   "metadata": {},
   "outputs": [
    {
     "data": {
      "text/plain": [
       "matrix([[89,  4]])"
      ]
     },
     "execution_count": 4,
     "metadata": {},
     "output_type": "execute_result"
    }
   ],
   "source": [
    "\"\"\"2. Write a Python Program to Multiply Two Matrices?\"\"\"\n",
    "import numpy\n",
    "def mul_matrices(l,m):\n",
    "    n=numpy.matrix(l)\n",
    "    m=numpy.matrix(m)\n",
    "    return n*m\n",
    "mul_matrices([1,2],[[21,2],[34,1]])"
   ]
  },
  {
   "cell_type": "code",
   "execution_count": 11,
   "id": "c91bdbdc",
   "metadata": {},
   "outputs": [
    {
     "name": "stdout",
     "output_type": "stream",
     "text": [
      "[[ 1  2  3]\n",
      " [21  2  4]\n",
      " [34  1  5]]\n"
     ]
    },
    {
     "data": {
      "text/plain": [
       "array([[ 1, 21, 34],\n",
       "       [ 2,  2,  1],\n",
       "       [ 3,  4,  5]])"
      ]
     },
     "execution_count": 11,
     "metadata": {},
     "output_type": "execute_result"
    }
   ],
   "source": [
    "\"\"\"3. Write a Python Program to Transpose a Matrix?\"\"\"\n",
    "import numpy\n",
    "def trn_matrices(l):\n",
    "    n=numpy.array(l)\n",
    "    print(n)\n",
    "    return n.transpose()\n",
    "trn_matrices([[1,2,3],[21,2,4],[34,1,5]])"
   ]
  },
  {
   "cell_type": "code",
   "execution_count": 19,
   "id": "5d90244d",
   "metadata": {},
   "outputs": [
    {
     "name": "stdout",
     "output_type": "stream",
     "text": [
      "['AN', 'CASED', 'EXAMPLE', 'HELLO', 'IS', 'LETTERS', 'THIS', 'WITH']\n"
     ]
    }
   ],
   "source": [
    "\"\"\"4. Write a Python Program to Sort Words in Alphabetic Order?\"\"\"\n",
    "def sortedWord(s):\n",
    "    n=[i.upper() for i in s.split()]\n",
    "    return sorted(n)\n",
    "print(sortedWord(\"Hello this Is an Example With cased letters\"))"
   ]
  },
  {
   "cell_type": "code",
   "execution_count": 4,
   "id": "bf8d87f3",
   "metadata": {},
   "outputs": [
    {
     "data": {
      "text/plain": [
       "'Hello he said and went'"
      ]
     },
     "execution_count": 4,
     "metadata": {},
     "output_type": "execute_result"
    }
   ],
   "source": [
    "\"\"\"5. Write a Python Program to Remove Punctuation From a String?\"\"\"\n",
    "def removePun(s):\n",
    "    punctuations = '''!()-[]{};:'\"\\,<>./?@#$%^&*_~'''\n",
    "    word = \"\"\n",
    "    for char in s:\n",
    "        if char  in punctuations:\n",
    "            pass\n",
    "        else:\n",
    "            word = word + char\n",
    "    return word\n",
    "removePun(\"Hello!!!, he said ---and went.\")"
   ]
  },
  {
   "cell_type": "code",
   "execution_count": null,
   "id": "e5b9c3ae",
   "metadata": {},
   "outputs": [],
   "source": []
  }
 ],
 "metadata": {
  "kernelspec": {
   "display_name": "Python 3 (ipykernel)",
   "language": "python",
   "name": "python3"
  },
  "language_info": {
   "codemirror_mode": {
    "name": "ipython",
    "version": 3
   },
   "file_extension": ".py",
   "mimetype": "text/x-python",
   "name": "python",
   "nbconvert_exporter": "python",
   "pygments_lexer": "ipython3",
   "version": "3.9.7"
  }
 },
 "nbformat": 4,
 "nbformat_minor": 5
}
