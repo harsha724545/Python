{
 "cells": [
  {
   "cell_type": "code",
   "execution_count": 3,
   "id": "9da8a5b6",
   "metadata": {},
   "outputs": [
    {
     "name": "stdout",
     "output_type": "stream",
     "text": [
      "Number plz.. :100\n",
      "0,7,14,21,28,35,42,49,56,63,70,77,84,91,98,"
     ]
    }
   ],
   "source": [
    "\"\"\"Define a class with a generator which can iterate the numbers, which are divisible by 7, between a given range 0 and n.\"\"\"\n",
    "def numgenr(n):\n",
    "    for i in range(n):\n",
    "        if i%7==0:\n",
    "            yield i\n",
    "n=int(input(\"Number plz.. :\"))\n",
    "for i in numgenr(n):\n",
    "    print(i,end=\",\")\n"
   ]
  },
  {
   "cell_type": "code",
   "execution_count": 1,
   "id": "2ccf80c1",
   "metadata": {},
   "outputs": [
    {
     "name": "stdout",
     "output_type": "stream",
     "text": [
      "Enter the paragraph :New to Python or choosing between Python 2 and Python 3? Read Python 2 or Python 3.\n",
      "Counter({'Python': 5, 'or': 2, '2': 2, 'New': 1, 'to': 1, 'choosing': 1, 'between': 1, 'and': 1, '3?': 1, 'Read': 1, '3.': 1})\n"
     ]
    }
   ],
   "source": [
    "\"\"\"Write a program to compute the frequency of the words from the input. The output should output after sorting the key alphanumerically.\"\"\"\n",
    "import collections\n",
    "def countstring(n):\n",
    "    l=[i for i in n.split(\" \")]\n",
    "    s=collections.Counter(l)\n",
    "    return s\n",
    "n=input(\"Enter the paragraph :\")\n",
    "re=countstring(n)\n",
    "print(re)"
   ]
  },
  {
   "cell_type": "code",
   "execution_count": 8,
   "id": "bce48efc",
   "metadata": {},
   "outputs": [
    {
     "name": "stdout",
     "output_type": "stream",
     "text": [
      "Male\n",
      "Female\n",
      "Unknown\n"
     ]
    }
   ],
   "source": [
    "\"\"\"Define a class Person and its two child classes: Male and Female. All classes have amethod \"getGender\" which can print \n",
    "\"Male\"; for Male class and \"Female\" for Female class.\"\"\"\n",
    "class Person(object):\n",
    "    def getGender( self ):\n",
    "        return \"Unknown\"\n",
    "\n",
    "class Male(   ):\n",
    "    def getGender( self ):\n",
    "        return \"Male\"\n",
    "\n",
    "class Female( Person ):\n",
    "    def getGender( self ):\n",
    "        return \"Female\"\n",
    "a=Person()\n",
    "aMale = Male()\n",
    "aFemale= Female()\n",
    "print(aMale.getGender())\n",
    "print(aFemale.getGender())\n",
    "print(a.getGender())\n",
    "\n",
    "        "
   ]
  },
  {
   "cell_type": "code",
   "execution_count": 13,
   "id": "1b03a0b1",
   "metadata": {},
   "outputs": [
    {
     "name": "stdout",
     "output_type": "stream",
     "text": [
      "I Play Hockey\n",
      "I Play Football\n",
      "I Love Hockey\n",
      "I Love Football\n",
      "You Play Hockey\n",
      "You Play Football\n",
      "You Love Hockey\n",
      "You Love Football\n"
     ]
    }
   ],
   "source": [
    "\"\"\"Please write a program to generate all sentences where subject is in [\"I\", \"You\"] and\n",
    "verb is in [\"Play\", \"Love\"] and the object is in [\"Hockey\",\"Football\"].\"\"\"\n",
    "def sentence(sub,verb,object_):\n",
    "    for i in sub:\n",
    "        for j in verb:\n",
    "            for k in object_:\n",
    "                print(i+\" \"+j+\" \"+k)\n",
    "sub=[\"I\", \"You\"]\n",
    "verb=[\"Play\", \"Love\"]\n",
    "object_=[\"Hockey\",\"Football\"]\n",
    "sentence(sub,verb,object_)\n"
   ]
  },
  {
   "cell_type": "code",
   "execution_count": 33,
   "id": "12d20209",
   "metadata": {},
   "outputs": [
    {
     "name": "stdout",
     "output_type": "stream",
     "text": [
      "b'hello world!hello world!hello world!hello world!'\n",
      "b'x\\x9c\\xcbH\\xcd\\xc9\\xc9W(\\xcf/\\xcaIQ\\xcc \\x82\\r\\x00\\xbd[\\x11\\xf5'\n"
     ]
    }
   ],
   "source": [
    "\"\"\"Please write a program to compress and decompress the string hello world!hello world!hello world!hello world.\"\"\"\n",
    "def comp(s):\n",
    "        y = bytes(s, 'utf')\n",
    "        x = zlib.compress(y)\n",
    "        print(y)\n",
    "        print(x)      \n",
    "s = 'hello world!hello world!hello world!hello world!'\n",
    "re=comp(s)"
   ]
  },
  {
   "cell_type": "code",
   "execution_count": 6,
   "id": "e4da252c",
   "metadata": {},
   "outputs": [
    {
     "name": "stdout",
     "output_type": "stream",
     "text": [
      "Enter number :222\n",
      "The index is : 6\n"
     ]
    }
   ],
   "source": [
    "\"\"\"Please write a binary search function which searches an item in a sorted list. The function should return the index of \n",
    "element to be searched in the list.\"\"\"\n",
    "def search(l,n):\n",
    "    l1=[]\n",
    "    for i in range(len(l)):\n",
    "        if l[i]==n:\n",
    "            l1.append(i)\n",
    "        else:\n",
    "            l1.append(-1)\n",
    "    s=sorted(list(set(l1)))\n",
    "    if len(s)==2:\n",
    "        print(\"The index is :\",s[1])\n",
    "    else:\n",
    "        print(\"The enter number is not present :\",-1)\n",
    "l=[2,5,7,9,11,17,222]\n",
    "re=search(l,int(input(\"Enter number :\")))\n"
   ]
  },
  {
   "cell_type": "code",
   "execution_count": null,
   "id": "9c4bf3e9",
   "metadata": {},
   "outputs": [],
   "source": []
  },
  {
   "cell_type": "code",
   "execution_count": null,
   "id": "efcfe442",
   "metadata": {},
   "outputs": [],
   "source": []
  }
 ],
 "metadata": {
  "kernelspec": {
   "display_name": "Python 3 (ipykernel)",
   "language": "python",
   "name": "python3"
  },
  "language_info": {
   "codemirror_mode": {
    "name": "ipython",
    "version": 3
   },
   "file_extension": ".py",
   "mimetype": "text/x-python",
   "name": "python",
   "nbconvert_exporter": "python",
   "pygments_lexer": "ipython3",
   "version": "3.9.7"
  }
 },
 "nbformat": 4,
 "nbformat_minor": 5
}
