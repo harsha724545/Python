{
 "cells": [
  {
   "cell_type": "code",
   "execution_count": 1,
   "id": "9edde29a",
   "metadata": {},
   "outputs": [
    {
     "name": "stdout",
     "output_type": "stream",
     "text": [
      "100\n",
      "0,35,70,"
     ]
    }
   ],
   "source": [
    "\"\"\"Please write a program using generator to print the numbers which can be divisible by 5 and 7 between 0 and n \n",
    "in comma separated form while n is input by console.\"\"\"\n",
    "def numgen(n):\n",
    "    for i in range(n):\n",
    "        if i%5==0 and i%7==0:\n",
    "            yield i\n",
    "        else:\n",
    "            pass\n",
    "n=int(input())\n",
    "for i in numgen(n):\n",
    "  print(i,end=\",\")"
   ]
  },
  {
   "cell_type": "code",
   "execution_count": 5,
   "id": "07c6b9d1",
   "metadata": {},
   "outputs": [
    {
     "name": "stdout",
     "output_type": "stream",
     "text": [
      "10\n",
      "0,2,4,6,8,"
     ]
    }
   ],
   "source": [
    "\"\"\"Please write a program using generator to print the even numbers between 0 and n in comma\n",
    "separated form while n is input by console.\"\"\"\n",
    "def evengen(n):\n",
    "    for i in range(n):\n",
    "        if i%2==0 :\n",
    "            yield i\n",
    "        else:\n",
    "            pass\n",
    "n=int(input())\n",
    "for i in evengen(n):\n",
    "  print(i,end=\",\")"
   ]
  },
  {
   "cell_type": "code",
   "execution_count": 7,
   "id": "0f8cdffe",
   "metadata": {},
   "outputs": [
    {
     "name": "stdout",
     "output_type": "stream",
     "text": [
      "10\n",
      "[0, 1, 1, 2, 3, 5, 8, 13, 21, 34]\n"
     ]
    }
   ],
   "source": [
    "\n",
    "\"\"\"The Fibonacci Sequence is computed based on the following formula:\n",
    "f(n)=0 if n=0\n",
    "f(n)=1 if n=1\n",
    "f(n)=f(n-1)+f(n-2) if n>1\n",
    "Please write a program using list comprehension to print the Fibonacci Sequence in comma separated form with a given n input by console.\"\"\"\n",
    "n = int(input())\n",
    "x = [0,1]\n",
    "fibs = x[0:2] + [x.append(x[-1] + x[-2]) or x[-1] for i in range(n-2)]\n",
    "print(fibs)\n"
   ]
  },
  {
   "cell_type": "code",
   "execution_count": 8,
   "id": "39656c77",
   "metadata": {},
   "outputs": [
    {
     "name": "stdout",
     "output_type": "stream",
     "text": [
      "enter the email-ID :ShivaJohn@gamail.com\n",
      "ShivaJohn\n"
     ]
    }
   ],
   "source": [
    "\"\"\"Assuming that we have some email addresses in the &quot;username@companyname.com&quot; format,\n",
    "please write program to print the user name of a given email address. Both user names and\n",
    "company names are composed of letters only.\"\"\"\n",
    "import re \n",
    "s=re.match(pattern=\"([A-Za-z]+)\", string=input(\"enter the email-ID :\"))\n",
    "print(s.group())\n",
    "\n"
   ]
  },
  {
   "cell_type": "code",
   "execution_count": 1,
   "id": "c79c74bb",
   "metadata": {},
   "outputs": [
    {
     "name": "stdout",
     "output_type": "stream",
     "text": [
      "25\n",
      "0\n"
     ]
    }
   ],
   "source": [
    "\"\"\"Define a class named Shape and its subclass Square. The Square class has an init function which takes a length as \n",
    "argument. Both classes have a area function which can print the area of the shape where Shape&#39;s area is 0 by default.\"\"\"\n",
    "class Shape():\n",
    "    def __init__(self):\n",
    "        pass\n",
    "    def area(self):\n",
    "        return 0\n",
    "class Square(Shape):\n",
    "    def __init__(self,length = 0):\n",
    "        Shape.__init__(self)\n",
    "        self.length = length\n",
    "    def area(self):\n",
    "        return self.length*self.length\n",
    "Asqr = Square(5)\n",
    "print(Asqr.area())     \n",
    "print(Square().area()) \n"
   ]
  },
  {
   "cell_type": "code",
   "execution_count": null,
   "id": "6dd727a9",
   "metadata": {},
   "outputs": [],
   "source": []
  }
 ],
 "metadata": {
  "kernelspec": {
   "display_name": "Python 3 (ipykernel)",
   "language": "python",
   "name": "python3"
  },
  "language_info": {
   "codemirror_mode": {
    "name": "ipython",
    "version": 3
   },
   "file_extension": ".py",
   "mimetype": "text/x-python",
   "name": "python",
   "nbconvert_exporter": "python",
   "pygments_lexer": "ipython3",
   "version": "3.9.7"
  }
 },
 "nbformat": 4,
 "nbformat_minor": 5
}
