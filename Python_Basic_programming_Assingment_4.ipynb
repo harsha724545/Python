{
 "cells": [
  {
   "cell_type": "code",
   "execution_count": 11,
   "id": "a53799cb",
   "metadata": {},
   "outputs": [
    {
     "name": "stdout",
     "output_type": "stream",
     "text": [
      "Enter any number : 5\n",
      "120\n"
     ]
    }
   ],
   "source": [
    "#Write a Python Program to Find the Factorial of a Number?\n",
    "import math\n",
    "n=int(input('Enter any number : '))\n",
    "print(math.factorial(n))\n"
   ]
  },
  {
   "cell_type": "code",
   "execution_count": 13,
   "id": "7eaccdce",
   "metadata": {},
   "outputs": [
    {
     "name": "stdout",
     "output_type": "stream",
     "text": [
      "Enter Table 18\n",
      "18X1=18\n",
      "18X2=36\n",
      "18X3=54\n",
      "18X4=72\n",
      "18X5=90\n",
      "18X6=108\n",
      "18X7=126\n",
      "18X8=144\n",
      "18X9=162\n",
      "18X10=180\n"
     ]
    }
   ],
   "source": [
    "#Write a Python Program to Display the multiplication Table?\n",
    "n=int(input('Enter Table '))\n",
    "if n>0:\n",
    "    for i in range(1,11):\n",
    "        m=i*n\n",
    "        print(f'{n}X{i}={m}')"
   ]
  },
  {
   "cell_type": "code",
   "execution_count": 28,
   "id": "89e7da67",
   "metadata": {},
   "outputs": [
    {
     "name": "stdout",
     "output_type": "stream",
     "text": [
      "Enter number: 7\n",
      "0\n",
      "1\n",
      "1\n",
      "2\n",
      "3\n",
      "5\n",
      "8\n"
     ]
    }
   ],
   "source": [
    "#Write a Python Program to Print the Fibonacci sequence?\n",
    "n=int(input('Enter number: '))\n",
    "n1,n2=0,1\n",
    "c=1\n",
    "if n>0:\n",
    "    while c<=n:\n",
    "        print(n1)\n",
    "        n3=n1+n2\n",
    "        n1=n2\n",
    "        n2=n3\n",
    "        c=c+1\n",
    "        \n",
    "    "
   ]
  },
  {
   "cell_type": "code",
   "execution_count": 8,
   "id": "58bb38e5",
   "metadata": {},
   "outputs": [
    {
     "name": "stdout",
     "output_type": "stream",
     "text": [
      "Enter 3 digits number: 407\n",
      "It is Armstrong Number \n"
     ]
    }
   ],
   "source": [
    "#Write a Python Program to Check Armstrong Number?\n",
    "n=int(input('Enter 3 digits number: '))\n",
    "if n>0:\n",
    "    n1=n%10\n",
    "    n2=n-n1\n",
    "    n3=n//10\n",
    "    n4=n3%10\n",
    "    n5=n3-n4\n",
    "    n6=n3//10\n",
    "    temp=n1**3+n4**3+n6**3\n",
    "    if temp==n:\n",
    "        print('It is Armstrong Number ')\n",
    "    else:\n",
    "        print('It is Not Armstrong Number ')\n"
   ]
  },
  {
   "cell_type": "code",
   "execution_count": 10,
   "id": "837fad55",
   "metadata": {},
   "outputs": [
    {
     "name": "stdout",
     "output_type": "stream",
     "text": [
      "Enter number: 5\n",
      "15\n"
     ]
    }
   ],
   "source": [
    "#Write a Python Program to Find the Sum of Natural Numbers?\n",
    "n=int(input('Enter number: '))\n",
    "sum=0\n",
    "for i in range (0,n+1):\n",
    "    sum=sum+i\n",
    "print(sum)"
   ]
  },
  {
   "cell_type": "code",
   "execution_count": null,
   "id": "544a88c1",
   "metadata": {},
   "outputs": [],
   "source": []
  }
 ],
 "metadata": {
  "kernelspec": {
   "display_name": "Python 3 (ipykernel)",
   "language": "python",
   "name": "python3"
  },
  "language_info": {
   "codemirror_mode": {
    "name": "ipython",
    "version": 3
   },
   "file_extension": ".py",
   "mimetype": "text/x-python",
   "name": "python",
   "nbconvert_exporter": "python",
   "pygments_lexer": "ipython3",
   "version": "3.9.7"
  }
 },
 "nbformat": 4,
 "nbformat_minor": 5
}
