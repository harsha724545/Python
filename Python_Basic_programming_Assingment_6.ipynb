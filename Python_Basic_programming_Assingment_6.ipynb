{
 "cells": [
  {
   "cell_type": "code",
   "execution_count": 11,
   "id": "b0acdcb9",
   "metadata": {},
   "outputs": [
    {
     "name": "stdout",
     "output_type": "stream",
     "text": [
      "Fibonacci sequence:\n",
      "0\n",
      "1\n",
      "1\n",
      "2\n"
     ]
    }
   ],
   "source": [
    "#1. Write a Python Program to Display Fibonacci Sequence Using Recursion?\n",
    "def fib(n):\n",
    "    \n",
    "    if n <= 1:\n",
    "       return n\n",
    "    else:\n",
    "       return(fib(n-1) + fib(n-2))\n",
    "\n",
    "n=4\n",
    "\n",
    "print(\"Fibonacci sequence:\")\n",
    "for i in range(n):\n",
    "    print(fib(i))\n",
    "    \n",
    "    "
   ]
  },
  {
   "cell_type": "code",
   "execution_count": 9,
   "id": "3996cb92",
   "metadata": {},
   "outputs": [
    {
     "name": "stdout",
     "output_type": "stream",
     "text": [
      "Enter no. : 10\n",
      "3628800\n"
     ]
    }
   ],
   "source": [
    "#2. Write a Python Program to Find Factorial of Number Using Recursion?\n",
    "def fac(n):\n",
    "    if n==1:\n",
    "        return 1\n",
    "    else:\n",
    "        return fac(n-1)*n\n",
    "n=int(input(\"Enter no. : \"))\n",
    "re=fac(n)\n",
    "print(re)"
   ]
  },
  {
   "cell_type": "code",
   "execution_count": 15,
   "id": "74b5306d",
   "metadata": {},
   "outputs": [
    {
     "name": "stdout",
     "output_type": "stream",
     "text": [
      "Enter Height in Meter :1.65\n",
      "Enter Weight in Kg :50\n",
      "\n",
      "    A BMI of 25.0 or more is overweight, while the healthy range is 18.5 to 24.9.\n",
      "    BMI applies to most adults 18-65 years.\n",
      "    \n",
      "The BMI of Your is : 1836.5472910927458\n"
     ]
    }
   ],
   "source": [
    "#3. Write a Python Program to calculate your Body Mass Index?\n",
    "def BMI(H,W):\n",
    "    \"\"\"\n",
    "    A BMI of 25.0 or more is overweight, while the healthy range is 18.5 to 24.9.\n",
    "    BMI applies to most adults 18-65 years.\n",
    "    \"\"\"\n",
    "    re=(W/H**2)*100\n",
    "    return re\n",
    "H=float(input(\"Enter Height in Meter :\"))\n",
    "W=float(input(\"Enter Weight in Kg :\"))\n",
    "r=BMI(H,W)\n",
    "print(\"\"\"\n",
    "    A BMI of 25.0 or more is overweight, while the healthy range is 18.5 to 24.9.\n",
    "    BMI applies to most adults 18-65 years.\n",
    "    \"\"\")\n",
    "print(\"The BMI of Your is :\",r)"
   ]
  },
  {
   "cell_type": "code",
   "execution_count": 20,
   "id": "0f40b83a",
   "metadata": {},
   "outputs": [
    {
     "name": "stdout",
     "output_type": "stream",
     "text": [
      "Enter any number :5\n",
      "1.6094379124341003\n"
     ]
    }
   ],
   "source": [
    "#4. Write a Python Program to calculate the natural logarithm of any number?\n",
    "from math import log\n",
    "print(log(int(input( \"Enter any number :\"))))"
   ]
  },
  {
   "cell_type": "code",
   "execution_count": 23,
   "id": "86de75b9",
   "metadata": {},
   "outputs": [
    {
     "name": "stdout",
     "output_type": "stream",
     "text": [
      "Enter Number :5\n",
      "225\n"
     ]
    }
   ],
   "source": [
    "#5. Write a Python Program for cube sum of first n natural numbers?\n",
    "def cube_sum(n):\n",
    "    s=0\n",
    "    for i in range(1,n+1):\n",
    "        s=s+i**3\n",
    "    return s\n",
    "n=int(input(\"Enter Number :\"))\n",
    "r=cube_sum(n)\n",
    "print(r)"
   ]
  },
  {
   "cell_type": "code",
   "execution_count": null,
   "id": "c1feff6c",
   "metadata": {},
   "outputs": [],
   "source": []
  }
 ],
 "metadata": {
  "kernelspec": {
   "display_name": "Python 3 (ipykernel)",
   "language": "python",
   "name": "python3"
  },
  "language_info": {
   "codemirror_mode": {
    "name": "ipython",
    "version": 3
   },
   "file_extension": ".py",
   "mimetype": "text/x-python",
   "name": "python",
   "nbconvert_exporter": "python",
   "pygments_lexer": "ipython3",
   "version": "3.9.7"
  }
 },
 "nbformat": 4,
 "nbformat_minor": 5
}
