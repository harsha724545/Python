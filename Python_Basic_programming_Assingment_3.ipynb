{
 "cells": [
  {
   "cell_type": "code",
   "execution_count": 1,
   "id": "b365ffb1",
   "metadata": {},
   "outputs": [
    {
     "name": "stdout",
     "output_type": "stream",
     "text": [
      "Enter positive or negative number-99\n",
      "It is negative Number\n"
     ]
    }
   ],
   "source": [
    "#Write a Python Program to Check if a Number is Positive, Negative or Zero?\n",
    "n=int(input('Enter positive or negative number: '))\n",
    "if n>0:\n",
    "    print('It is positive Number')\n",
    "else:\n",
    "    print('It is negative Number')"
   ]
  },
  {
   "cell_type": "code",
   "execution_count": 5,
   "id": "1ae2f50c",
   "metadata": {},
   "outputs": [
    {
     "name": "stdout",
     "output_type": "stream",
     "text": [
      "Enter Odd or Even number: 7\n",
      "It is Odd Number\n"
     ]
    }
   ],
   "source": [
    "#Write a Python Program to Check if a Number is Odd or Even?\n",
    "n=int(input('Enter Odd or Even number: '))\n",
    "if n%2==0:\n",
    "    print('It is Even Number')\n",
    "else:\n",
    "    print('It is Odd Number')\n",
    "    "
   ]
  },
  {
   "cell_type": "code",
   "execution_count": 7,
   "id": "2cd9eab8",
   "metadata": {},
   "outputs": [
    {
     "name": "stdout",
     "output_type": "stream",
     "text": [
      "Enter Year : 2021\n",
      "It is Not a Leap Year\n"
     ]
    }
   ],
   "source": [
    "#Write a Python Program to Check Leap Year?\n",
    "n=int(input('Enter Year : '))\n",
    "if n%4==0:\n",
    "    print('It is Leap Year')\n",
    "else:\n",
    "    print('It is Not a Leap Year')"
   ]
  },
  {
   "cell_type": "code",
   "execution_count": 28,
   "id": "5874fe60",
   "metadata": {},
   "outputs": [
    {
     "name": "stdout",
     "output_type": "stream",
     "text": [
      "Enter number: 19998\n",
      "it is not prime number 19998\n"
     ]
    }
   ],
   "source": [
    "#Write a Python Program to Check Prime Number?\n",
    "n=int(input('Enter number: '))\n",
    "if n>0:\n",
    "    for i in range(2,n):\n",
    "        if n%i==0:\n",
    "            print('it is not prime number', n)\n",
    "            break\n",
    "        print('It is Prime number', n)\n",
    "        break\n",
    "            "
   ]
  },
  {
   "cell_type": "code",
   "execution_count": 57,
   "id": "39071fc2",
   "metadata": {},
   "outputs": [
    {
     "name": "stdout",
     "output_type": "stream",
     "text": [
      "1\n",
      "2\n",
      "3\n",
      "5\n",
      "7\n",
      "11\n",
      "13\n",
      "17\n",
      "19\n",
      "23\n",
      "29\n",
      "31\n",
      "37\n",
      "41\n",
      "43\n",
      "47\n",
      "53\n",
      "59\n",
      "61\n",
      "67\n",
      "71\n",
      "73\n",
      "79\n",
      "83\n",
      "89\n",
      "97\n"
     ]
    }
   ],
   "source": [
    "#Write a Python Program to Print all Prime Numbers in an Interval of 1-10000?\n",
    "n=10000\n",
    "for num in range(n + 1):\n",
    "    if num>0:\n",
    "        for i in range(2,num,1):\n",
    "            if num%i==0:\n",
    "                break\n",
    "        else:\n",
    "            print(num)\n",
    "          \n",
    "        "
   ]
  },
  {
   "cell_type": "code",
   "execution_count": null,
   "id": "c1848bc9",
   "metadata": {},
   "outputs": [],
   "source": []
  }
 ],
 "metadata": {
  "kernelspec": {
   "display_name": "Python 3 (ipykernel)",
   "language": "python",
   "name": "python3"
  },
  "language_info": {
   "codemirror_mode": {
    "name": "ipython",
    "version": 3
   },
   "file_extension": ".py",
   "mimetype": "text/x-python",
   "name": "python",
   "nbconvert_exporter": "python",
   "pygments_lexer": "ipython3",
   "version": "3.9.7"
  }
 },
 "nbformat": 4,
 "nbformat_minor": 5
}
