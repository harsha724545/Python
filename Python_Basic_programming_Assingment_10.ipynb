{
 "cells": [
  {
   "cell_type": "code",
   "execution_count": 8,
   "id": "273ffcd0",
   "metadata": {},
   "outputs": [
    {
     "name": "stdout",
     "output_type": "stream",
     "text": [
      "Entery the list elements :1 2 34 5 t \n",
      "The error occurs : invalid literal for int() with base 10: 't'\n",
      "The sum of the List is : 10\n"
     ]
    }
   ],
   "source": [
    "#1. Write a Python program to find sum of elements in list?\n",
    "def sumlist(l):\n",
    "    return sum(l)\n",
    "try:\n",
    "    l=list(map(int,input(\"Entery the list elements :\").split()))\n",
    "except Exception as e:\n",
    "    print(\"The error occurs :\", e)\n",
    "re=sumlist(l)\n",
    "print(\"The sum of the List is :\",re)"
   ]
  },
  {
   "cell_type": "code",
   "execution_count": 9,
   "id": "dc168a08",
   "metadata": {},
   "outputs": [
    {
     "name": "stdout",
     "output_type": "stream",
     "text": [
      "Entery the list elements :10 100 10 10\n",
      "The sum of the List is : 100000\n"
     ]
    }
   ],
   "source": [
    "#2. Write a Python program to Multiply all numbers in the list?\n",
    "def mullist(l):\n",
    "    m=1\n",
    "    for i in l:\n",
    "        m=m*i\n",
    "    return m\n",
    "try:\n",
    "    l=list(map(int,input(\"Entery the list elements :\").split()))\n",
    "except Exception as e:\n",
    "    print(\"The error occurs :\", e)\n",
    "re=mullist(l)\n",
    "print(\"The sum of the List is :\",re)"
   ]
  },
  {
   "cell_type": "code",
   "execution_count": 13,
   "id": "05665188",
   "metadata": {},
   "outputs": [
    {
     "name": "stdout",
     "output_type": "stream",
     "text": [
      "Entery the list elements :123 453 13 6754 23\n",
      "[123, 453, 13, 6754, 23]\n",
      "The sum of the List is : 13\n"
     ]
    }
   ],
   "source": [
    "#3. Write a Python program to find smallest number in a list?\n",
    "def smllist(l):\n",
    "    m=sorted(l)\n",
    "    return m[0]\n",
    "try:\n",
    "    l=list(map(int,input(\"Entery the list elements :\").split()))\n",
    "except Exception as e:\n",
    "    print(\"The error occurs :\", e)\n",
    "re=smllist(l)\n",
    "print(\"The sum of the List is :\",re)"
   ]
  },
  {
   "cell_type": "code",
   "execution_count": 14,
   "id": "dbec690c",
   "metadata": {},
   "outputs": [
    {
     "name": "stdout",
     "output_type": "stream",
     "text": [
      "Entery the list elements :12 32 12 34 13234 21 24 53 \n",
      "The sum of the List is : 13234\n"
     ]
    }
   ],
   "source": [
    "#4. Write a Python program to find largest number in a list?\n",
    "def larglist(l):\n",
    "    m=sorted(l)\n",
    "    return m[-1]\n",
    "try:\n",
    "    l=list(map(int,input(\"Entery the list elements :\").split()))\n",
    "except Exception as e:\n",
    "    print(\"The error occurs :\", e)\n",
    "re=larglist(l)\n",
    "print(\"The sum of the List is :\",re)"
   ]
  },
  {
   "cell_type": "code",
   "execution_count": 15,
   "id": "020e3b57",
   "metadata": {},
   "outputs": [
    {
     "name": "stdout",
     "output_type": "stream",
     "text": [
      "Entery the list elements :12 32 12 34 13234 21 24 53 \n",
      "The sum of the List is : 53\n"
     ]
    }
   ],
   "source": [
    "#5. Write a Python program to find second largest number in a list?\n",
    "def Slarglist(l):\n",
    "    m=sorted(l)\n",
    "    return m[-2]\n",
    "try:\n",
    "    l=list(map(int,input(\"Entery the list elements :\").split()))\n",
    "except Exception as e:\n",
    "    print(\"The error occurs :\", e)\n",
    "re=Slarglist(l)\n",
    "print(\"The sum of the List is :\",re)\n"
   ]
  },
  {
   "cell_type": "code",
   "execution_count": 27,
   "id": "877cf1fc",
   "metadata": {},
   "outputs": [
    {
     "name": "stdout",
     "output_type": "stream",
     "text": [
      "Entery the list elements :12 32 12 34 13234 21 24 53\n",
      "entr2\n",
      "The 2 large Number are  13234\n",
      "The 2 large Number are  53\n"
     ]
    }
   ],
   "source": [
    "#6. Write a Python program to find N largest elements from a list?\n",
    "def Nlarglist(l):\n",
    "    m=sorted(l)\n",
    "    n=int(input(\"entr\"))\n",
    "    for i in range(1,n+1):\n",
    "        print(f\"The {n} large Number are \",m[-i])\n",
    "    \n",
    "try:\n",
    "    l=list(map(int,input(\"Entery the list elements :\").split()))\n",
    "except Exception as e:\n",
    "    print(\"The error occurs :\", e)\n",
    "re=Nlarglist(l)"
   ]
  },
  {
   "cell_type": "code",
   "execution_count": 16,
   "id": "59b9b524",
   "metadata": {},
   "outputs": [
    {
     "name": "stdout",
     "output_type": "stream",
     "text": [
      "Entery the list elements :12  23 211 32 21 43 192 129 812\n",
      "The even number frm the list is : [12, 32, 192, 812]\n"
     ]
    }
   ],
   "source": [
    "#7. Write a Python program to print even numbers in a list?\n",
    "def Evenlist(l):\n",
    "    s=[i for i in l if i%2==0]\n",
    "    return s\n",
    "try:\n",
    "    l=list(map(int,input(\"Entery the list elements :\").split()))\n",
    "except Exception as e:\n",
    "    print(\"The error occurs :\", e)\n",
    "re=Evenlist(l)\n",
    "print(\"The even numbers frm the list is :\",re)"
   ]
  },
  {
   "cell_type": "code",
   "execution_count": 17,
   "id": "3d09a697",
   "metadata": {},
   "outputs": [
    {
     "name": "stdout",
     "output_type": "stream",
     "text": [
      "Entery the list elements :12  23 211 32 21 43 192 129 812\n",
      "The Odd numbers frm the list is : [23, 211, 21, 43, 129]\n"
     ]
    }
   ],
   "source": [
    "#8. Write a Python program to print odd numbers in a List?\n",
    "def Oddlist(l):\n",
    "    s=[i for i in l if i%2==1]\n",
    "    return s\n",
    "try:\n",
    "    l=list(map(int,input(\"Entery the list elements :\").split()))\n",
    "except Exception as e:\n",
    "    print(\"The error occurs :\", e)\n",
    "re=Oddlist(l)\n",
    "print(\"The Odd numbers frm the list is :\",re)"
   ]
  },
  {
   "cell_type": "code",
   "execution_count": 53,
   "id": "58409bc7",
   "metadata": {},
   "outputs": [
    {
     "name": "stdout",
     "output_type": "stream",
     "text": [
      "[1, 2, 3, 12, [12, 31], 'shiva']\n"
     ]
    }
   ],
   "source": [
    "#9. Write a Python program to Remove empty List from List?\n",
    "def removelist(l):\n",
    "    return list(filter(None,l))\n",
    "l=[1,2,3,[],12,[12,31],\"shiva\",[]]\n",
    "re=removelist(l)\n",
    "print(re)"
   ]
  },
  {
   "cell_type": "code",
   "execution_count": 24,
   "id": "2b565cca",
   "metadata": {},
   "outputs": [
    {
     "name": "stdout",
     "output_type": "stream",
     "text": [
      "\n",
      "Here is a list of the Python keywords.  Enter any keyword to get more help.\n",
      "\n",
      "False               break               for                 not\n",
      "None                class               from                or\n",
      "True                continue            global              pass\n",
      "__peg_parser__      def                 if                  raise\n",
      "and                 del                 import              return\n",
      "as                  elif                in                  try\n",
      "assert              else                is                  while\n",
      "async               except              lambda              with\n",
      "await               finally             nonlocal            yield\n",
      "\n"
     ]
    }
   ],
   "source": [
    "help(\"keywords\")"
   ]
  },
  {
   "cell_type": "code",
   "execution_count": 20,
   "id": "61fa644b",
   "metadata": {},
   "outputs": [
    {
     "name": "stdout",
     "output_type": "stream",
     "text": [
      "Entery the list elements :12  23 211 32 21 43 192 129 812\n",
      "Old list : [12, 23, 211, 32, 21, 43, 192, 129, 812]\n",
      "The copied in S list is : [12, 23, 211, 32, 21, 43, 192, 129, 812]\n"
     ]
    }
   ],
   "source": [
    "#10. Write a Python program to Cloning or Copying a list?\n",
    "def Copylist(l):\n",
    "    s=[i for i in l]\n",
    "    return s\n",
    "try:\n",
    "    l=list(map(int,input(\"Entery the list elements :\").split()))\n",
    "except Exception as e:\n",
    "    print(\"The error occurs :\", e)\n",
    "re=Copylist(l)\n",
    "print(\"Old list :\",l)\n",
    "print(\"The copied in S list is :\",re)"
   ]
  },
  {
   "cell_type": "code",
   "execution_count": 21,
   "id": "1d28a629",
   "metadata": {},
   "outputs": [
    {
     "name": "stdout",
     "output_type": "stream",
     "text": [
      "Entery the list elements :12  23 211 32 21 43 192 129 812 12  23 211 32 21 43 192 129 812\n",
      "The copied in S list is : Counter({12: 2, 23: 2, 211: 2, 32: 2, 21: 2, 43: 2, 192: 2, 129: 2, 812: 2})\n"
     ]
    }
   ],
   "source": [
    "#11. Write a Python program to Count occurrences of an element in a list?\n",
    "import collections\n",
    "def Countlist(l):\n",
    "    s=collections.Counter(l)\n",
    "    return s\n",
    "try:\n",
    "    l=list(map(int,input(\"Entery the list elements :\").split()))\n",
    "except Exception as e:\n",
    "    print(\"The error occurs :\", e)\n",
    "re=Countlist(l)\n",
    "print(\"The copied in S list is :\",re)"
   ]
  },
  {
   "cell_type": "code",
   "execution_count": null,
   "id": "836eaa88",
   "metadata": {},
   "outputs": [],
   "source": []
  },
  {
   "cell_type": "code",
   "execution_count": null,
   "id": "1a9148a8",
   "metadata": {},
   "outputs": [],
   "source": []
  }
 ],
 "metadata": {
  "kernelspec": {
   "display_name": "Python 3 (ipykernel)",
   "language": "python",
   "name": "python3"
  },
  "language_info": {
   "codemirror_mode": {
    "name": "ipython",
    "version": 3
   },
   "file_extension": ".py",
   "mimetype": "text/x-python",
   "name": "python",
   "nbconvert_exporter": "python",
   "pygments_lexer": "ipython3",
   "version": "3.9.7"
  }
 },
 "nbformat": 4,
 "nbformat_minor": 5
}
