{
 "cells": [
  {
   "cell_type": "code",
   "execution_count": 10,
   "id": "53e1ba80",
   "metadata": {},
   "outputs": [
    {
     "name": "stdout",
     "output_type": "stream",
     "text": [
      "Enter the Number : 175\n",
      "this the number Disarium 175\n"
     ]
    }
   ],
   "source": [
    "#1. Write a Python program to check if the given number is a Disarium Number?\n",
    "def disarium(l):\n",
    "    s1=0\n",
    "    for i in range(len(l1)):\n",
    "        s1=s1+int(l1[i])**i\n",
    "    if str(s1-1)==l[1]:\n",
    "        return f\"this the number Disarium {l[1]}\"\n",
    "    else:\n",
    "        return \"NOOOOO.... Disarium!\"\n",
    "l=[\"0\"]\n",
    "s=l.append(input(\"Enter the Number : \"))\n",
    "l1=\"\".join(l) \n",
    "re=disarium(l)\n",
    "print(re)"
   ]
  },
  {
   "cell_type": "code",
   "execution_count": 57,
   "id": "fa5021cc",
   "metadata": {},
   "outputs": [
    {
     "name": "stdout",
     "output_type": "stream",
     "text": [
      "100\n",
      "this is Disarium Number : 1\n",
      "this is Disarium Number : 2\n",
      "this is Disarium Number : 3\n",
      "this is Disarium Number : 4\n",
      "this is Disarium Number : 5\n",
      "this is Disarium Number : 6\n",
      "this is Disarium Number : 7\n",
      "this is Disarium Number : 8\n",
      "this is Disarium Number : 9\n",
      "this is Disarium Number : 89\n"
     ]
    }
   ],
   "source": [
    "#2. Write a Python program to print all disarium numbers between 1 to 100?\n",
    "def Disarium(n):\n",
    "    for i in range(1,n):\n",
    "        if i>9:\n",
    "            l=[\"0\"]\n",
    "            l.append(str(i))\n",
    "            l1=\"\".join(l)\n",
    "    #         print(l,l1)\n",
    "            s=0\n",
    "            for j in range(len(str(l1))):\n",
    "                s+=int(l1[j])**j\n",
    "            if str(s-1)==l[1]:\n",
    "                print(\"this is Disarium Number :\",l[1])\n",
    "            else:\n",
    "                pass\n",
    "        else:\n",
    "            print(\"this is Disarium Number :\",i)\n",
    "n=int(input())\n",
    "re=Disarium(n)"
   ]
  },
  {
   "cell_type": "code",
   "execution_count": 20,
   "id": "c4dfc961",
   "metadata": {},
   "outputs": [
    {
     "name": "stdout",
     "output_type": "stream",
     "text": [
      "100\n",
      "Happy Number...!\n"
     ]
    }
   ],
   "source": [
    "#3. Write a Python program to check if the given number is Happy Number?\n",
    "def checkHappyno(l):\n",
    "    if int(l)>10:\n",
    "        s=0\n",
    "        for i in range(len(str(l))):\n",
    "            s=s+int(l[i])**2\n",
    "        return checkHappyno(str(s))\n",
    "    elif int(l)==1 or int(l)==10:\n",
    "        return \"Happy Number...!\"\n",
    "    else:\n",
    "        return \"Unhappy Number.\"\n",
    "l=input()\n",
    "re=checkHappyno(l)\n",
    "print(re)"
   ]
  },
  {
   "cell_type": "code",
   "execution_count": 30,
   "id": "48ae6fe1",
   "metadata": {},
   "outputs": [
    {
     "name": "stdout",
     "output_type": "stream",
     "text": [
      "Happy Numbers are : 1\n",
      "Happy Numbers are : 7\n",
      "Happy Numbers are : 10\n",
      "Happy Numbers are : 13\n",
      "Happy Numbers are : 19\n",
      "Happy Numbers are : 23\n",
      "Happy Numbers are : 28\n",
      "Happy Numbers are : 31\n",
      "Happy Numbers are : 32\n",
      "Happy Numbers are : 44\n",
      "Happy Numbers are : 49\n",
      "Happy Numbers are : 68\n",
      "Happy Numbers are : 70\n",
      "Happy Numbers are : 79\n",
      "Happy Numbers are : 82\n",
      "Happy Numbers are : 86\n",
      "Happy Numbers are : 91\n",
      "Happy Numbers are : 94\n",
      "Happy Numbers are : 97\n",
      "Happy Numbers are : 100\n"
     ]
    }
   ],
   "source": [
    "#4. Write a Python program to print all happy numbers between 1 and 100?\n",
    "def isHappyNumber(n):    \n",
    "    r,sum = 0,0;      \n",
    "    while(n > 0):    \n",
    "        r = n%10;    \n",
    "        sum = sum + (r*r);    \n",
    "        n = n//10;    \n",
    "    return sum;         \n",
    "for i in range(1, 101):    \n",
    "    result = i;       \n",
    "    while(result != 1 and result != 4):    \n",
    "         result = isHappyNumber(result);    \n",
    "    if(result == 1):    \n",
    "        print(\"Happy Numbers are :\",i)    \n"
   ]
  },
  {
   "cell_type": "code",
   "execution_count": 34,
   "id": "84e2d0ab",
   "metadata": {},
   "outputs": [
    {
     "name": "stdout",
     "output_type": "stream",
     "text": [
      "12\n",
      "Harshad Number...!\n"
     ]
    }
   ],
   "source": [
    "#5. Write a Python program to determine whether the given number is a Harshad Number?\n",
    "def Harshad(l):\n",
    "    if int(l)>10:\n",
    "        s=0\n",
    "        for i in range(len(l)):\n",
    "            s+=int(l[i])\n",
    "        if int(l)%s==0:\n",
    "            return \"Harshad Number...!\"\n",
    "        else:\n",
    "            return \"NOT a Harshad Number.\"\n",
    "    else:\n",
    "        return \"Harshad Number...!\"\n",
    "l=input()\n",
    "re=Harshad(l)\n",
    "print(re)"
   ]
  },
  {
   "cell_type": "code",
   "execution_count": 8,
   "id": "fe29a3a8",
   "metadata": {},
   "outputs": [
    {
     "name": "stdout",
     "output_type": "stream",
     "text": [
      "Enter the Number :10\n",
      "This is pronic Number : 0\n",
      "This is pronic Number : 2\n",
      "This is pronic Number : 6\n",
      "This is pronic Number : 12\n",
      "This is pronic Number : 20\n",
      "This is pronic Number : 30\n",
      "This is pronic Number : 42\n",
      "This is pronic Number : 56\n",
      "This is pronic Number : 72\n",
      "This is pronic Number : 90\n"
     ]
    }
   ],
   "source": [
    "#6. Write a Python program to print all pronic numbers between 1 and 100?\n",
    "def pronic(n):\n",
    "    m=0\n",
    "    for i in range(10):\n",
    "        m=i*(i+1)\n",
    "        print(\"This is pronic Number :\",m)\n",
    "n=int(input(\"Enter the Number :\"))\n",
    "re=pronic(n)"
   ]
  },
  {
   "cell_type": "code",
   "execution_count": null,
   "id": "6ff4c70a",
   "metadata": {},
   "outputs": [],
   "source": []
  },
  {
   "cell_type": "code",
   "execution_count": null,
   "id": "d36cbf71",
   "metadata": {},
   "outputs": [],
   "source": []
  }
 ],
 "metadata": {
  "kernelspec": {
   "display_name": "Python 3 (ipykernel)",
   "language": "python",
   "name": "python3"
  },
  "language_info": {
   "codemirror_mode": {
    "name": "ipython",
    "version": 3
   },
   "file_extension": ".py",
   "mimetype": "text/x-python",
   "name": "python",
   "nbconvert_exporter": "python",
   "pygments_lexer": "ipython3",
   "version": "3.9.7"
  }
 },
 "nbformat": 4,
 "nbformat_minor": 5
}
