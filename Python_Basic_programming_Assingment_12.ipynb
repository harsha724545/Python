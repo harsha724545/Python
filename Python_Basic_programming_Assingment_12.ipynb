{
 "cells": [
  {
   "cell_type": "code",
   "execution_count": 17,
   "id": "debe8ffc",
   "metadata": {},
   "outputs": [
    {
     "name": "stdout",
     "output_type": "stream",
     "text": [
      "All unique values are : {1, 2, 5, 6, 7, 8, 10, 11, 12}\n"
     ]
    }
   ],
   "source": [
    "#1. Write a Python program to Extract Unique values dictionary values?\n",
    "def Unique(dict):\n",
    "    l=[dict[i] for i in dict]\n",
    "    l1=[]\n",
    "    for i in range(len(l)):\n",
    "        if type(l[i])==list:\n",
    "            for j in l[i]:\n",
    "                l1.append(j)\n",
    "            else:\n",
    "                pass\n",
    "    return set(l1)\n",
    "dict = {'gfg' : [5, 6, 7, 8],\n",
    "         'is' : [10, 11, 7, 5],\n",
    "         'best' : [6, 12, 10, 8],\n",
    "         'for' : [1, 2, 5]}\n",
    "re=Unique(dict)\n",
    "print(\"All unique values are :\",re)"
   ]
  },
  {
   "cell_type": "code",
   "execution_count": 32,
   "id": "021aa069",
   "metadata": {},
   "outputs": [
    {
     "name": "stdout",
     "output_type": "stream",
     "text": [
      "All Sum of the values are : 288\n"
     ]
    }
   ],
   "source": [
    "#2. Write a Python program to find the sum of all items in a dictionary?\n",
    "def Sumofallitem(dict):\n",
    "    l=[dict_[i] for i in dict_]\n",
    "    return sum(l)\n",
    "dict_ = {'gfg' : 5,\n",
    "         'is' : 109,\n",
    "         'best' : 67,\n",
    "         'for' : 107}\n",
    "re=Sumofallitem(dict)\n",
    "print(\"All Sum of the values are :\",re)"
   ]
  },
  {
   "cell_type": "code",
   "execution_count": 24,
   "id": "10a0755d",
   "metadata": {},
   "outputs": [
    {
     "name": "stdout",
     "output_type": "stream",
     "text": [
      "Merging two Dictionaries are : {'gfg': 5, 'is': 880, 'best': 67, 'for': 998, 's': 9, 'v': 'shiva'}\n"
     ]
    }
   ],
   "source": [
    "#3. Write a Python program to Merging two Dictionaries?\n",
    "def Sumofallitem(dict,dict1):\n",
    "    return(dict|dict1)\n",
    "dict = {'gfg' : 5,'is' : 109,'best' : 67,'for' : 107}\n",
    "dict1={\"s\":9,\"is\":880,\"for\":998,\"v\":\"shiva\"}\n",
    "re=Sumofallitem(dict,dict1)\n",
    "print(\"Merging two Dictionaries are :\",re)"
   ]
  },
  {
   "cell_type": "code",
   "execution_count": 6,
   "id": "c3b1790c",
   "metadata": {},
   "outputs": [
    {
     "name": "stdout",
     "output_type": "stream",
     "text": [
      "{1: 'Jan', 2: 'Feb', 3: 'March'}\n"
     ]
    }
   ],
   "source": [
    "#4. Write a Python program to convert key-values list to flat dictionary?\n",
    "def keys(d):\n",
    "    return  dict(zip(d['month'], d['name']))\n",
    "d = {\"name\": [\"Jan\", \"Feb\", \"March\"], \"month\": [1, 2, 3]}\n",
    "re=keys(d)\n",
    "print(re)"
   ]
  },
  {
   "cell_type": "code",
   "execution_count": 26,
   "id": "ccd868a9",
   "metadata": {},
   "outputs": [
    {
     "name": "stdout",
     "output_type": "stream",
     "text": [
      "OrderedDict([('s', 845292), ('name', ['Jan', 'Feb', 'March']), ('nikhil', '2')])\n"
     ]
    }
   ],
   "source": [
    "#5. Write a Python program to insertion at the beginning in OrderedDict?\n",
    "from collections import OrderedDict\n",
    "def order(d,s):\n",
    "    d.update(s)\n",
    "    d.move_to_end(\"s\",last=False)\n",
    "    return d\n",
    "d=OrderedDict([(\"name\", [\"Jan\", \"Feb\", \"March\"]), ('nikhil', '2')])\n",
    "s={\"s\":845292}\n",
    "re=(order(d,s))\n",
    "print(re)"
   ]
  },
  {
   "cell_type": "code",
   "execution_count": 37,
   "id": "03c2a633",
   "metadata": {},
   "outputs": [
    {
     "name": "stdout",
     "output_type": "stream",
     "text": [
      "False\n"
     ]
    }
   ],
   "source": [
    "#6. Write a Python program to check order of character in string using OrderedDict()?\n",
    "from collections import OrderedDict  \n",
    "def checkOrder(input, pattern): \n",
    "    dict = OrderedDict.fromkeys(input) \n",
    "    ptrlen = 0\n",
    "    for key,value in dict.items(): \n",
    "        if (key == pattern[ptrlen]): \n",
    "            ptrlen = ptrlen + 1\n",
    "        if (ptrlen == (len(pattern))): \n",
    "            return True\n",
    "    return False\n",
    "input = 'engineers rock'\n",
    "pattern = 'esg'\n",
    "print (checkOrder(input,pattern)) "
   ]
  },
  {
   "cell_type": "code",
   "execution_count": 33,
   "id": "558bca68",
   "metadata": {},
   "outputs": [
    {
     "name": "stdout",
     "output_type": "stream",
     "text": [
      "('best', 67) ('for', 107) ('gfg', 5) ('is', 109) "
     ]
    }
   ],
   "source": [
    "#7. Write a Python program to sort Python Dictionaries by Key or Value?\n",
    "def sort(d):\n",
    "    for i in sorted(d.keys()):\n",
    "        print((i,d[i]),end=\" \")\n",
    "d = {'gfg' : 5,'is' : 109,'best' : 67,'for' : 107}\n",
    "re=sort(d)"
   ]
  },
  {
   "cell_type": "code",
   "execution_count": 34,
   "id": "ae026181",
   "metadata": {},
   "outputs": [
    {
     "name": "stdout",
     "output_type": "stream",
     "text": [
      "True\n"
     ]
    }
   ],
   "source": []
  },
  {
   "cell_type": "code",
   "execution_count": null,
   "id": "1a3f798e",
   "metadata": {},
   "outputs": [],
   "source": []
  }
 ],
 "metadata": {
  "kernelspec": {
   "display_name": "Python 3 (ipykernel)",
   "language": "python",
   "name": "python3"
  },
  "language_info": {
   "codemirror_mode": {
    "name": "ipython",
    "version": 3
   },
   "file_extension": ".py",
   "mimetype": "text/x-python",
   "name": "python",
   "nbconvert_exporter": "python",
   "pygments_lexer": "ipython3",
   "version": "3.9.7"
  }
 },
 "nbformat": 4,
 "nbformat_minor": 5
}
