{
 "cells": [
  {
   "cell_type": "code",
   "execution_count": 73,
   "id": "90b58900",
   "metadata": {},
   "outputs": [
    {
     "data": {
      "text/plain": [
       "0"
      ]
     },
     "execution_count": 73,
     "metadata": {},
     "output_type": "execute_result"
    }
   ],
   "source": [
    "\"\"\"\n",
    "1. Write a function that takes a list of lists and returns the value of all of the\n",
    "symbols in it, where each symbol adds or takes something from the total\n",
    "score. Symbol values:\n",
    "# = 5\n",
    "O = 3\n",
    "X = 1\n",
    "! = -1\n",
    "!! = -3\n",
    "!!! = -5\n",
    "A list of lists containing 2 #s, a O, and a !!! would equal (0 + 5 + 5 + 3 - 5) 8.\n",
    "If the final score is negative, return 0 (e.g. 3 #s, 3 !!s, 2 !!!s and a X would be\n",
    "(0 + 5 + 5 + 5 - 3 - 3 - 3 - 5 - 5 + 1) -3, so return 0.\n",
    "Examples\n",
    "check_score([\n",
    "[&quot;#&quot;, &quot;!&quot;],\n",
    "[&quot;!!&quot;, &quot;X&quot;]\n",
    "]) ➞ 2\n",
    "check_score([\n",
    "[&quot;!!!&quot;, &quot;O&quot;, &quot;!&quot;],\n",
    "[&quot;X&quot;, &quot;#&quot;, &quot;!!!&quot;],\n",
    "[&quot;!!&quot;, &quot;X&quot;, &quot;O&quot;]\n",
    "]) ➞ 0\n",
    "\"\"\"\n",
    "def fun(l):\n",
    "    l1=[]\n",
    "    for j in range(len(l)):\n",
    "        if type(l[j])== list:\n",
    "            for i in l[j]:\n",
    "                s=1\n",
    "                if i == \"#\":\n",
    "                    s=s*5\n",
    "                    l1.append(s)\n",
    "                elif i==\"O\":\n",
    "                    s=s*3\n",
    "                    l1.append(s)\n",
    "                elif i==\"X\":\n",
    "                    s=s*1\n",
    "                    l1.append(s)\n",
    "                elif i==\"!\":\n",
    "                    s=s*-1\n",
    "                    l1.append(s)\n",
    "                elif i==\"!!\":\n",
    "                    s=s*-3\n",
    "                    l1.append(s)\n",
    "                elif i==\"!!!\":\n",
    "                    s=s*-5\n",
    "                    l1.append(s)\n",
    "                else:\n",
    "                    print(f\" Please enter only {i}(#,O,X,!,!!,!!!) :\")\n",
    "    s1=0\n",
    "    for i in l1:\n",
    "        s1+=i\n",
    "    if s1>0:\n",
    "        return s1\n",
    "    else:\n",
    "        return 0\n",
    "l=[[\"#\",\"!!!\",\"O\",\"X\",\"X\"],[\"#\",\"!!!\",\"O\",\"!!!\",\"!!!\"]]\n",
    "fun(l)"
   ]
  },
  {
   "cell_type": "code",
   "execution_count": 75,
   "id": "7d67a96c",
   "metadata": {},
   "outputs": [
    {
     "name": "stdout",
     "output_type": "stream",
     "text": [
      "1 2 3 4\n"
     ]
    },
    {
     "data": {
      "text/plain": [
       "24"
      ]
     },
     "execution_count": 75,
     "metadata": {},
     "output_type": "execute_result"
    }
   ],
   "source": [
    "\"\"\"\n",
    "2. Create a function that takes a variable number of arguments, each\n",
    "argument representing the number of items in a group, and returns the\n",
    "number of permutations (combinations) of items that you could get by taking\n",
    "one item from each group.\n",
    "\"\"\"\n",
    "def combin(l):\n",
    "    c=1\n",
    "    for i in l:\n",
    "        c=c*i\n",
    "    return c\n",
    "l=list(map(int,input().split()))\n",
    "combin(l)"
   ]
  },
  {
   "cell_type": "code",
   "execution_count": 39,
   "id": "dfc1e50e",
   "metadata": {},
   "outputs": [
    {
     "name": "stdout",
     "output_type": "stream",
     "text": [
      "in else\n",
      "The morse code is shiva845292  :- ... .... .. ...- .- ---.. ....- ..... ..--- ----. ..---  \n"
     ]
    }
   ],
   "source": [
    "\"\"\"\n",
    "3.Create a function that takes a string as an argument and returns the Morse\n",
    "code equivalent.\n",
    "\"\"\"\n",
    "MORSE_CODE_DICT = { 'A':'.-', 'B':'-...',\n",
    "                    'C':'-.-.', 'D':'-..', 'E':'.',\n",
    "                    'F':'..-.', 'G':'--.', 'H':'....',\n",
    "                    'I':'..', 'J':'.---', 'K':'-.-',\n",
    "                    'L':'.-..', 'M':'--', 'N':'-.',\n",
    "                    'O':'---', 'P':'.--.', 'Q':'--.-',\n",
    "                    'R':'.-.', 'S':'...', 'T':'-',\n",
    "                    'U':'..-', 'V':'...-', 'W':'.--',\n",
    "                    'X':'-..-', 'Y':'-.--', 'Z':'--..',\n",
    "                    '1':'.----', '2':'..---', '3':'...--',\n",
    "                    '4':'....-', '5':'.....', '6':'-....',\n",
    "                    '7':'--...', '8':'---..', '9':'----.',\n",
    "                    '0':'-----', ', ':'--..--', '.':'.-.-.-',\n",
    "                    '?':'..--..', '/':'-..-.', '-':'-....-',\n",
    "                    '(':'-.--.', ')':'-.--.-'}\n",
    "def encrypt(message):\n",
    "    c = ''\n",
    "    for letter in message:\n",
    "        if letter != ' ':\n",
    "            c += MORSE_CODE_DICT[letter] + ' '\n",
    "        else:\n",
    "            c += \" \"\n",
    "    return c\n",
    "\n",
    "message = \"shiva845292\"\n",
    "result = encrypt(message.upper())\n",
    "print (f\"The morse code is {message} :-\",result)\n",
    "    \n"
   ]
  },
  {
   "cell_type": "code",
   "execution_count": 14,
   "id": "5115cb2d",
   "metadata": {},
   "outputs": [
    {
     "name": "stdout",
     "output_type": "stream",
     "text": [
      "Wall time: 0 ns\n"
     ]
    },
    {
     "data": {
      "text/plain": [
       "False"
      ]
     },
     "execution_count": 14,
     "metadata": {},
     "output_type": "execute_result"
    }
   ],
   "source": [
    "\"\"\"\n",
    "4.Write a function that takes a number and returns True if it&#39;s a prime; False\n",
    "otherwise. The number can be 2^64-1 (2 to the power of 63, not XOR). With\n",
    "the standard technique it would be O(2^64-1), which is much too large for the\n",
    "10 second time limit.\n",
    "\"\"\"\n",
    "%%time\n",
    "def prime(n):\n",
    "    c=0\n",
    "    for i in range(1,n):\n",
    "        if n%i==0:\n",
    "            return False\n",
    "        else:\n",
    "            return True\n",
    "prime(51515125155241671361318137)"
   ]
  },
  {
   "cell_type": "code",
   "execution_count": 116,
   "id": "daf93d56",
   "metadata": {},
   "outputs": [
    {
     "name": "stdout",
     "output_type": "stream",
     "text": [
      "[1, 0, 1, 0, 1]\n"
     ]
    },
    {
     "data": {
      "text/plain": [
       "[True, False, True, False, True]"
      ]
     },
     "execution_count": 116,
     "metadata": {},
     "output_type": "execute_result"
    }
   ],
   "source": [
    "\"\"\"\n",
    "\n",
    "\"\"\"\n",
    "\n",
    "def alpha(letter):\n",
    "    alphabets = { \"a\":1,'b':0,'c':1,\"d\":0,\"e\":1,\"f\":0,\"g\":1,\"h\":0,\"i\":1,\"j\":0,\"k\":1,\"l\":0,'m':1,\"n\":0,\n",
    "                  \"o\":1,\"p\":0,\"q\":1,\"r\":0,\"s\":1,\"t\":0,\"u\":1,\"v\":0,\"w\":1,\"x\":0,\"y\":1,\"z\":0 }\n",
    "    l=[]\n",
    "    for i in letter:\n",
    "        for j in alphabets.keys():\n",
    "            if i.lower() == j:\n",
    "                s=alphabets.get(j)\n",
    "                l.append(s)\n",
    "            else:\n",
    "                pass\n",
    "    print(l)\n",
    "    l1=[]\n",
    "    for i in l:\n",
    "        #print(i)\n",
    "        if i == 1:\n",
    "            #print(\"true\")\n",
    "            l1.append(True)\n",
    "        else :\n",
    "            l1.append(False)\n",
    "    return l1\n",
    "alpha(\"Shiva\")"
   ]
  },
  {
   "cell_type": "code",
   "execution_count": null,
   "id": "f696c847",
   "metadata": {},
   "outputs": [],
   "source": []
  },
  {
   "cell_type": "code",
   "execution_count": null,
   "id": "8e624e74",
   "metadata": {},
   "outputs": [],
   "source": []
  },
  {
   "cell_type": "code",
   "execution_count": null,
   "id": "667abd66",
   "metadata": {},
   "outputs": [],
   "source": []
  }
 ],
 "metadata": {
  "kernelspec": {
   "display_name": "Python 3 (ipykernel)",
   "language": "python",
   "name": "python3"
  },
  "language_info": {
   "codemirror_mode": {
    "name": "ipython",
    "version": 3
   },
   "file_extension": ".py",
   "mimetype": "text/x-python",
   "name": "python",
   "nbconvert_exporter": "python",
   "pygments_lexer": "ipython3",
   "version": "3.9.7"
  }
 },
 "nbformat": 4,
 "nbformat_minor": 5
}
