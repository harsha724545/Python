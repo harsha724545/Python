{
 "cells": [
  {
   "cell_type": "code",
   "execution_count": 1,
   "id": "e726f806",
   "metadata": {},
   "outputs": [
    {
     "name": "stdout",
     "output_type": "stream",
     "text": [
      "Hello Python\n"
     ]
    }
   ],
   "source": [
    "#Write a Python program to print Hello python?\n",
    "print('Hello Python')"
   ]
  },
  {
   "cell_type": "code",
   "execution_count": 4,
   "id": "5af52184",
   "metadata": {},
   "outputs": [
    {
     "name": "stdout",
     "output_type": "stream",
     "text": [
      "Enter a value: 9\n",
      "Enter b value: 8\n",
      "17\n",
      "1.125\n"
     ]
    }
   ],
   "source": [
    "#Write a Python program to do arithmetical operations addition and division.?\n",
    "a=int(input('Enter a value: '))\n",
    "b=int(input('Enter b value: '))\n",
    "print(a+b)\n",
    "print(a/b)"
   ]
  },
  {
   "cell_type": "code",
   "execution_count": 9,
   "id": "dcef7957",
   "metadata": {},
   "outputs": [
    {
     "name": "stdout",
     "output_type": "stream",
     "text": [
      "Enter Base value: 23\n",
      "Enter Height value: 24\n",
      "the area of triangle is : 276.0\n"
     ]
    }
   ],
   "source": [
    "#Write a Python program to find the area of a triangle?\n",
    "Base=int(input('Enter Base value: '))\n",
    "Height=int(input('Enter Height value: '))\n",
    "print('The area of triangle is :',0.5*Height*Base)"
   ]
  },
  {
   "cell_type": "code",
   "execution_count": 11,
   "id": "7d4159bf",
   "metadata": {},
   "outputs": [
    {
     "name": "stdout",
     "output_type": "stream",
     "text": [
      "vijaya\n",
      "shiva\n"
     ]
    }
   ],
   "source": [
    "#Write a Python program to swap two variables?\n",
    "s=\"shiva\"\n",
    "v=\"vijaya\"\n",
    "temp=s\n",
    "s='vijaya'\n",
    "v=temp\n",
    "print(s)\n",
    "print(v)"
   ]
  },
  {
   "cell_type": "code",
   "execution_count": 13,
   "id": "60dda7c2",
   "metadata": {},
   "outputs": [
    {
     "name": "stdout",
     "output_type": "stream",
     "text": [
      "19\n",
      "p\n"
     ]
    }
   ],
   "source": [
    "#Write a Python program to generate a random number?\n",
    "import random\n",
    "list=[26,11,8,19,5]\n",
    "string='shivaprasadreddy mallaplli'\n",
    "print(random.choice(list))\n",
    "print(random.choice(string))"
   ]
  },
  {
   "cell_type": "code",
   "execution_count": null,
   "id": "649b1efa",
   "metadata": {},
   "outputs": [],
   "source": []
  }
 ],
 "metadata": {
  "kernelspec": {
   "display_name": "Python 3 (ipykernel)",
   "language": "python",
   "name": "python3"
  },
  "language_info": {
   "codemirror_mode": {
    "name": "ipython",
    "version": 3
   },
   "file_extension": ".py",
   "mimetype": "text/x-python",
   "name": "python",
   "nbconvert_exporter": "python",
   "pygments_lexer": "ipython3",
   "version": "3.9.7"
  }
 },
 "nbformat": 4,
 "nbformat_minor": 5
}
