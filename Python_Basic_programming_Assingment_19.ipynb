{
 "cells": [
  {
   "cell_type": "code",
   "execution_count": 6,
   "id": "2768bf58",
   "metadata": {},
   "outputs": [
    {
     "name": "stdout",
     "output_type": "stream",
     "text": [
      "Enter String : Hello Shiva!\n"
     ]
    },
    {
     "data": {
      "text/plain": [
       "'HHeelllloo  SShhiivvaa!!'"
      ]
     },
     "execution_count": 6,
     "metadata": {},
     "output_type": "execute_result"
    }
   ],
   "source": [
    "#Create a function that takes a string and returns a string in which each character is repeated once.\n",
    "def double_char(s):\n",
    "    l=[]\n",
    "    for i in range(len(s)):\n",
    "        l.append(2*s[i])\n",
    "    return \"\".join(l)\n",
    "double_char(input(\"Enter String : \"))    "
   ]
  },
  {
   "cell_type": "code",
   "execution_count": 9,
   "id": "ebd6f278",
   "metadata": {},
   "outputs": [
    {
     "name": "stdout",
     "output_type": "stream",
     "text": [
      "False\n",
      "boolean expected\n"
     ]
    }
   ],
   "source": [
    "#Create a function that reverses a boolean value and returns the string boolean expected if another variable type is given.\n",
    "def reverse(arg=None):\n",
    "    return not arg if type(arg) == bool else \"boolean expected\"\n",
    "print(reverse(True))\n",
    "print(reverse(\"Shiva\"))"
   ]
  },
  {
   "cell_type": "code",
   "execution_count": 18,
   "id": "daf36f1c",
   "metadata": {},
   "outputs": [
    {
     "data": {
      "text/plain": [
       "0.001"
      ]
     },
     "execution_count": 18,
     "metadata": {},
     "output_type": "execute_result"
    }
   ],
   "source": [
    "#Create a function that returns the thickness (in meters) of a piece of paper after folding it n number of times. \n",
    "#The paper starts off with a thickness of 0.5mm.\n",
    "def fn(a):\n",
    "    r = 0.5\n",
    "    for i in range(a):\n",
    "        r *= 2\n",
    "    return r / 1000\n",
    "fn(1)"
   ]
  },
  {
   "cell_type": "code",
   "execution_count": 24,
   "id": "83820a94",
   "metadata": {},
   "outputs": [
    {
     "data": {
      "text/plain": [
       "[1, 3, 5]"
      ]
     },
     "execution_count": 24,
     "metadata": {},
     "output_type": "execute_result"
    }
   ],
   "source": [
    "#Create a function that takes a single string as argument and returns an ordered list containingthe indices of all capital letters in the string.\n",
    "def index_of_caps(s):\n",
    "    l=[]\n",
    "    for i in range(len(s)):\n",
    "        if s[i].isupper():\n",
    "            l.append(i)\n",
    "    return l\n",
    "index_of_caps(\"eDaBiT\")"
   ]
  },
  {
   "cell_type": "code",
   "execution_count": 27,
   "id": "37183368",
   "metadata": {},
   "outputs": [
    {
     "data": {
      "text/plain": [
       "[2, 4, 6, 8]"
      ]
     },
     "execution_count": 27,
     "metadata": {},
     "output_type": "execute_result"
    }
   ],
   "source": [
    "#5.Using list comprehensions, create a function that finds all even numbers from 1 to the given number.\n",
    "def find_even_nums(n):\n",
    "    return [i for i in range(1,n+1) if i%2==0]\n",
    "find_even_nums(8)"
   ]
  },
  {
   "cell_type": "code",
   "execution_count": null,
   "id": "2b49e443",
   "metadata": {},
   "outputs": [],
   "source": []
  },
  {
   "cell_type": "code",
   "execution_count": null,
   "id": "b1de14b7",
   "metadata": {},
   "outputs": [],
   "source": []
  }
 ],
 "metadata": {
  "kernelspec": {
   "display_name": "Python 3 (ipykernel)",
   "language": "python",
   "name": "python3"
  },
  "language_info": {
   "codemirror_mode": {
    "name": "ipython",
    "version": 3
   },
   "file_extension": ".py",
   "mimetype": "text/x-python",
   "name": "python",
   "nbconvert_exporter": "python",
   "pygments_lexer": "ipython3",
   "version": "3.9.7"
  }
 },
 "nbformat": 4,
 "nbformat_minor": 5
}
