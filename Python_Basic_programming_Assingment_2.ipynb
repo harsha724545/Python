{
 "cells": [
  {
   "cell_type": "code",
   "execution_count": 1,
   "id": "d272ab5f",
   "metadata": {},
   "outputs": [
    {
     "name": "stdout",
     "output_type": "stream",
     "text": [
      "Enter kilometer :100\n",
      "27.77777777777778\n"
     ]
    }
   ],
   "source": [
    "#convert kilometers to miles\n",
    "l=int(input('Enter kilometer :'))\n",
    "print((5/18)*l)"
   ]
  },
  {
   "cell_type": "code",
   "execution_count": 2,
   "id": "1ab74182",
   "metadata": {},
   "outputs": [
    {
     "name": "stdout",
     "output_type": "stream",
     "text": [
      "Enter celsius :90\n",
      "194.0\n"
     ]
    }
   ],
   "source": [
    "#convert celsius to fahrenheit\n",
    "celsius=int(input('Enter celsius :'))\n",
    "fahrenheit = (celsius * 1.8) + 32\n",
    "print(fahrenheit)"
   ]
  },
  {
   "cell_type": "code",
   "execution_count": 10,
   "id": "ddeb27e8",
   "metadata": {},
   "outputs": [
    {
     "name": "stdout",
     "output_type": "stream",
     "text": [
      "Enter a value: 1\n",
      "Enter b value: 5\n",
      "Enter c value: 6\n",
      "(-3+0j)\n",
      "(-2+0j)\n"
     ]
    }
   ],
   "source": [
    "#Write a Python program to solve quadratic equation?\n",
    "import cmath\n",
    "a=int(input('Enter a value: '))\n",
    "b=int(input('Enter b value: '))\n",
    "c=int(input('Enter c value: '))\n",
    "d=(b**2)-(4*a*c)\n",
    "print((-b-cmath.sqrt(d))/(2*a))\n",
    "print((-b+cmath.sqrt(d))/(2*a))\n"
   ]
  },
  {
   "cell_type": "code",
   "execution_count": 12,
   "id": "4620a5eb",
   "metadata": {},
   "outputs": [
    {
     "name": "stdout",
     "output_type": "stream",
     "text": [
      "6 5\n"
     ]
    }
   ],
   "source": [
    "#Write a Python program to swap two variables without temp variable?\n",
    "a=5\n",
    "b=6\n",
    "a,b=b,a\n",
    "print(a,b)"
   ]
  },
  {
   "cell_type": "code",
   "execution_count": 17,
   "id": "bbc47713",
   "metadata": {},
   "outputs": [
    {
     "name": "stdout",
     "output_type": "stream",
     "text": [
      "Enter year value: 2202\n",
      "Enter month value: 12\n",
      "   December 2202\n",
      "Mo Tu We Th Fr Sa Su\n",
      "       1  2  3  4  5\n",
      " 6  7  8  9 10 11 12\n",
      "13 14 15 16 17 18 19\n",
      "20 21 22 23 24 25 26\n",
      "27 28 29 30 31\n",
      "\n"
     ]
    }
   ],
   "source": [
    "#Write a Python program to display calendar?\n",
    "import calendar\n",
    "year=int(input('Enter year value: '))\n",
    "month=int(input('Enter month value: '))\n",
    "print(calendar.month(year, month))"
   ]
  },
  {
   "cell_type": "code",
   "execution_count": null,
   "id": "12560cb6",
   "metadata": {},
   "outputs": [],
   "source": []
  }
 ],
 "metadata": {
  "kernelspec": {
   "display_name": "Python 3 (ipykernel)",
   "language": "python",
   "name": "python3"
  },
  "language_info": {
   "codemirror_mode": {
    "name": "ipython",
    "version": 3
   },
   "file_extension": ".py",
   "mimetype": "text/x-python",
   "name": "python",
   "nbconvert_exporter": "python",
   "pygments_lexer": "ipython3",
   "version": "3.9.7"
  }
 },
 "nbformat": 4,
 "nbformat_minor": 5
}
