{
 "cells": [
  {
   "cell_type": "code",
   "execution_count": 1,
   "id": "a77790e0",
   "metadata": {},
   "outputs": [
    {
     "name": "stdout",
     "output_type": "stream",
     "text": [
      "first : 1\n",
      "last : 8\n",
      "Number : 2\n",
      "12\n"
     ]
    }
   ],
   "source": [
    "\"\"\"Create a function that takes three arguments a, b, c and returns the sum of the numbers that are evenly divided by c \n",
    "from the range a, b inclusive.\"\"\"\n",
    "def evenly_divisible(f,l,number):\n",
    "    l=[]\n",
    "    for i in range(first,last):\n",
    "        if i%number==0:\n",
    "            l.append(i)\n",
    "    if len(l)==0:\n",
    "        return f\"It is not divided by {number}\"\n",
    "    else:\n",
    "        return sum(l)\n",
    "first=int(input(\"first : \"))\n",
    "last=int(input(\"last : \"))\n",
    "number=int(input(\"Number : \"))\n",
    "re=evenly_divisible(first,last,number)\n",
    "print(re)"
   ]
  },
  {
   "cell_type": "code",
   "execution_count": 15,
   "id": "490231b5",
   "metadata": {},
   "outputs": [
    {
     "name": "stdout",
     "output_type": "stream",
     "text": [
      "Enter the expression :12\n",
      "True\n"
     ]
    }
   ],
   "source": [
    "#2.Create a function that replaces all the vowels in a string with a specified character.\n",
    "def correct_signs(n):\n",
    "    r=eval(n)\n",
    "    if r:\n",
    "        return True\n",
    "    else:\n",
    "        return False \n",
    "n=input(\"Enter the expression :\")\n",
    "re=correct_signs(n)\n",
    "print(re)"
   ]
  },
  {
   "cell_type": "code",
   "execution_count": 4,
   "id": "4051ed17",
   "metadata": {},
   "outputs": [
    {
     "name": "stdout",
     "output_type": "stream",
     "text": [
      "Enter the expression :prasadshivavijayakid\n",
      "Enter replace value :#\n",
      "pr#s#dsh#v#v#j#y#k#d\n"
     ]
    }
   ],
   "source": [
    "\"\"\"3.Create a function that returns True if a given inequality expression is correct and false otherwise.\"\"\"\n",
    "def replace_vowels(n,s):\n",
    "    v=\"AEIOUaeiou\"\n",
    "    for i in v:\n",
    "        n=n.replace(i,s)\n",
    "    return n\n",
    "n=input(\"Enter the expression :\")\n",
    "s=input(\"Enter replace value :\")\n",
    "re=replace_vowels(n,s)\n",
    "print(re)"
   ]
  },
  {
   "cell_type": "code",
   "execution_count": 7,
   "id": "06f7ac8b",
   "metadata": {},
   "outputs": [
    {
     "name": "stdout",
     "output_type": "stream",
     "text": [
      "Enter the Number :6\n",
      "The Factorical of Number is 720\n"
     ]
    }
   ],
   "source": [
    "#4.Write a function that calculates the factorial of a number recursively.\n",
    "def fact(n):\n",
    "    if n==1 or n==0:\n",
    "        return 1\n",
    "    else:\n",
    "        return n*fact(n-1)\n",
    "n=int(input(\"Enter the Number :\"))\n",
    "re=fact(n)\n",
    "print(\"The Factorical of Number is\",re)\n"
   ]
  },
  {
   "cell_type": "code",
   "execution_count": 9,
   "id": "7e2149e2",
   "metadata": {},
   "outputs": [
    {
     "name": "stdout",
     "output_type": "stream",
     "text": [
      "Enter the String1 :shiva\n",
      "Enter the string2 :shiaa\n",
      "1\n"
     ]
    }
   ],
   "source": [
    "#5.Hamming distance is the number of characters that differ between two strings.\n",
    "def Hamming_distance(n,s):\n",
    "    count=0\n",
    "    for i in range(len(n)):\n",
    "        if n[i]==s[i]:\n",
    "            pass\n",
    "        else:\n",
    "            count+=1\n",
    "    return count\n",
    "n=input(\"Enter the String1 :\")\n",
    "s=input(\"Enter the string2 :\")\n",
    "re=Hamming_distance(n,s)\n",
    "print(re)"
   ]
  },
  {
   "cell_type": "code",
   "execution_count": null,
   "id": "1b9fa0c9",
   "metadata": {},
   "outputs": [],
   "source": []
  }
 ],
 "metadata": {
  "kernelspec": {
   "display_name": "Python 3 (ipykernel)",
   "language": "python",
   "name": "python3"
  },
  "language_info": {
   "codemirror_mode": {
    "name": "ipython",
    "version": 3
   },
   "file_extension": ".py",
   "mimetype": "text/x-python",
   "name": "python",
   "nbconvert_exporter": "python",
   "pygments_lexer": "ipython3",
   "version": "3.9.7"
  }
 },
 "nbformat": 4,
 "nbformat_minor": 5
}
