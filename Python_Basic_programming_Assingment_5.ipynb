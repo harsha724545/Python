{
 "cells": [
  {
   "cell_type": "code",
   "execution_count": 12,
   "id": "03544aba",
   "metadata": {},
   "outputs": [
    {
     "name": "stdout",
     "output_type": "stream",
     "text": [
      "Enter number108\n",
      "Enter number208\n",
      "The L.C.M. is 5616\n"
     ]
    }
   ],
   "source": [
    "#Write a Python Program to Find LCM?\n",
    "n1 = int(input('Enter number'))\n",
    "n2 = int(input('Enter number'))\n",
    "if n1 > n2:\n",
    "    greater = n1\n",
    "else:\n",
    "    greater = n2\n",
    "while(True):\n",
    "    if((greater % n1 == 0) and (greater % n2 == 0)):\n",
    "        lcm = greater\n",
    "        break\n",
    "    greater += 1\n",
    "print(\"The L.C.M. is\", lcm)"
   ]
  },
  {
   "cell_type": "code",
   "execution_count": 9,
   "id": "fb86952e",
   "metadata": {},
   "outputs": [
    {
     "name": "stdout",
     "output_type": "stream",
     "text": [
      "Enter number44\n",
      "Enter number34\n",
      "The H.C.F. is 2\n"
     ]
    }
   ],
   "source": [
    "#Write a Python Program to Find HCF?\n",
    "n1 = int(input('Enter number'))\n",
    "n2 = int(input('Enter number'))\n",
    "#h=0\n",
    "if n1 > n2:\n",
    "    less = n2\n",
    "else:\n",
    "    less = n1\n",
    "for i in range(1, less+1):\n",
    "    if((n1 % i == 0) and (n2 % i == 0)):\n",
    "        h = i        \n",
    "print(\"The H.C.F. is\", h)"
   ]
  },
  {
   "cell_type": "code",
   "execution_count": 13,
   "id": "1417aa1b",
   "metadata": {},
   "outputs": [
    {
     "name": "stdout",
     "output_type": "stream",
     "text": [
      "Enter number344\n",
      "0b101011000 in binary.\n",
      "0o530 in octal.\n",
      "0x158 in hexadecimal.\n"
     ]
    }
   ],
   "source": [
    "#Write a Python Program to Convert Decimal to Binary, Octal and Hexadecimal?\n",
    "\n",
    "n1 = int(input('Enter number'))\n",
    "\n",
    "print(bin(n1), \"in binary.\")\n",
    "print(oct(n1), \"in octal.\")\n",
    "print(hex(n1), \"in hexadecimal.\")\n"
   ]
  },
  {
   "cell_type": "code",
   "execution_count": 14,
   "id": "6ec90080",
   "metadata": {},
   "outputs": [
    {
     "name": "stdout",
     "output_type": "stream",
     "text": [
      "Enter numbery\n",
      "The ASCII value of 'y' is 121\n"
     ]
    }
   ],
   "source": [
    "#Write a Python Program To Find ASCII value of a character?\n",
    "n = input('Enter number')\n",
    "print(\"The ASCII value of '\" + n + \"' is\", ord(n))"
   ]
  },
  {
   "cell_type": "code",
   "execution_count": 27,
   "id": "637924a5",
   "metadata": {},
   "outputs": [
    {
     "name": "stdout",
     "output_type": "stream",
     "text": [
      "Enter any one of them +,-,/, and * :#\n",
      "Enter number894\n",
      "Enter number35\n",
      "plz select value opertor\n"
     ]
    }
   ],
   "source": [
    "#Write a Python Program to Make a Simple Calculator with 4 basic mathematical operations?\n",
    "n1 = input('Enter any one of them +,-,/, and * :')\n",
    "n2 = int(input('Enter number'))\n",
    "n3 = int(input('Enter number'))\n",
    "if n1 == '+':\n",
    "    print(\"sum of number is \",n2+n3)\n",
    "elif n1=='-':\n",
    "    print(\"sub of number is\",n2-n3)\n",
    "elif n1=='/':\n",
    "    print(\"division of  number is \",n2/n3)\n",
    "elif n1=='*':\n",
    "    print(\"multipy of  number is \",n2*n3)\n",
    "else:\n",
    "    print('plz select value opertor')\n",
    "\n",
    "    "
   ]
  },
  {
   "cell_type": "code",
   "execution_count": null,
   "id": "e91b2984",
   "metadata": {},
   "outputs": [],
   "source": []
  }
 ],
 "metadata": {
  "kernelspec": {
   "display_name": "Python 3 (ipykernel)",
   "language": "python",
   "name": "python3"
  },
  "language_info": {
   "codemirror_mode": {
    "name": "ipython",
    "version": 3
   },
   "file_extension": ".py",
   "mimetype": "text/x-python",
   "name": "python",
   "nbconvert_exporter": "python",
   "pygments_lexer": "ipython3",
   "version": "3.9.7"
  }
 },
 "nbformat": 4,
 "nbformat_minor": 5
}
