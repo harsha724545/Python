{
 "cells": [
  {
   "cell_type": "code",
   "execution_count": 10,
   "id": "5d1cd43b",
   "metadata": {},
   "outputs": [
    {
     "name": "stdout",
     "output_type": "stream",
     "text": [
      "word shiva\n",
      "\"sh..... sh..... shiva?\"\n"
     ]
    }
   ],
   "source": [
    "\"\"\"1.Write a function that stutters a word as if someone is struggling to read it. The first two letters are repeated twice \n",
    "with an ellipsis ... and space after each, and then the word is pronounced with a question mark\"\"\"\n",
    "def stutter(word):\n",
    "    p=word[:2]\n",
    "    return(2*(p+\"..... \")+word+\"?\" )\n",
    "\n",
    "word=input(\"word \")\n",
    "re=stutter(word)\n",
    "print(\"\\\"%s\\\"\"% re)"
   ]
  },
  {
   "cell_type": "code",
   "execution_count": 21,
   "id": "14f5fed7",
   "metadata": {},
   "outputs": [
    {
     "name": "stdout",
     "output_type": "stream",
     "text": [
      "Number.. :20\n",
      "1145.92\n"
     ]
    }
   ],
   "source": [
    "\"\"\"2.Create a function that takes an angle in radians and returns the corresponding angle in degrees rounded to one \n",
    "decimal place.\"\"\"\n",
    "import math\n",
    "def radtodeg(n):\n",
    "    return(round(n*(180/math.pi),2))\n",
    "n=int(input(\"Number.. :\"))\n",
    "re=radtodeg(n)\n",
    "print(re)\n"
   ]
  },
  {
   "cell_type": "code",
   "execution_count": 29,
   "id": "fb8f4ce8",
   "metadata": {},
   "outputs": [
    {
     "name": "stdout",
     "output_type": "stream",
     "text": [
      "Number.. :14\n",
      "True\n"
     ]
    }
   ],
   "source": [
    "\"\"\"3.In this challenge, establish if a given integer num is a Curzon number. If 1 plus 2 elevated to num is exactly \n",
    "divisible by 1 plus 2 multiplied by num, then num is a Curzon number.\"\"\"\n",
    "def curzon(n):\n",
    "    p=(2**n)+1\n",
    "    q=(2*n)+1\n",
    "    if p%q==0:\n",
    "        return True\n",
    "    else:\n",
    "        return False\n",
    "n=int(input(\"Number.. :\"))\n",
    "re=curzon(n)\n",
    "print(re)"
   ]
  },
  {
   "cell_type": "code",
   "execution_count": 43,
   "id": "140db993",
   "metadata": {},
   "outputs": [
    {
     "name": "stdout",
     "output_type": "stream",
     "text": [
      "side length : 3\n",
      "23.4\n"
     ]
    }
   ],
   "source": [
    "\"\"\"4.Given the side length x find the area of a hexagon.\"\"\"\n",
    "import math\n",
    "def hexagon(n):\n",
    "    p=((n**2)*3*math.sqrt(3))/2\n",
    "    return (round(p,1))\n",
    "n=int(input(\"side length : \"))\n",
    "re=hexagon(n)\n",
    "print(re)"
   ]
  },
  {
   "cell_type": "code",
   "execution_count": 54,
   "id": "a2103da7",
   "metadata": {},
   "outputs": [
    {
     "name": "stdout",
     "output_type": "stream",
     "text": [
      "Number : 10\n",
      "The binary value is : 1010\n"
     ]
    }
   ],
   "source": [
    "\"\"\"5.Create a function that returns a base-2 (binary) representation of a base-10 (decimal) string number. To convert is \n",
    "simple: ((2) means base-2 and (10) means base-10) 010101001(2) = 1 + 8 + 32 + 128.\"\"\"\n",
    "def decimalToBinary(n):\n",
    "    return \"{0:b}\".format(int(n))\n",
    "print(\"The binary value is :\",decimalToBinary((input(\"Number : \"))))"
   ]
  },
  {
   "cell_type": "code",
   "execution_count": null,
   "id": "6ae31335",
   "metadata": {},
   "outputs": [],
   "source": []
  }
 ],
 "metadata": {
  "kernelspec": {
   "display_name": "Python 3 (ipykernel)",
   "language": "python",
   "name": "python3"
  },
  "language_info": {
   "codemirror_mode": {
    "name": "ipython",
    "version": 3
   },
   "file_extension": ".py",
   "mimetype": "text/x-python",
   "name": "python",
   "nbconvert_exporter": "python",
   "pygments_lexer": "ipython3",
   "version": "3.9.7"
  }
 },
 "nbformat": 4,
 "nbformat_minor": 5
}
