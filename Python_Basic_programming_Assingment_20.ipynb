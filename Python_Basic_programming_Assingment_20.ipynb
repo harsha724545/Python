{
 "cells": [
  {
   "cell_type": "code",
   "execution_count": 1,
   "id": "f5ee2e7d",
   "metadata": {},
   "outputs": [
    {
     "name": "stdout",
     "output_type": "stream",
     "text": [
      "[1, 0, 15]\n"
     ]
    }
   ],
   "source": [
    "#1.Create a function that takes a list of non-negative integers and strings and return a new list without the strings.\n",
    "def filter_list(l):\n",
    "    l1=[]\n",
    "    for i in l:\n",
    "        if type(i)==int:\n",
    "            l1.append(i)\n",
    "    return l1\n",
    "re=filter_list([\"a\",1, \"a&\", \";b\", 0, 15])\n",
    "print(re)"
   ]
  },
  {
   "cell_type": "code",
   "execution_count": 2,
   "id": "4b5cd3eb",
   "metadata": {},
   "outputs": [
    {
     "data": {
      "text/plain": [
       "[1, 3, 5, 7, 9]"
      ]
     },
     "execution_count": 2,
     "metadata": {},
     "output_type": "execute_result"
    }
   ],
   "source": [
    "\"\"\"2.Given a list of numbers, create a function which returns the list but with each element's index in the list added \n",
    "to itself. This means you add 0 to the number at index 0, add 1 to the number at index 1, etc...\"\"\"\n",
    "def add_indexes(l):\n",
    "    l1=[]\n",
    "    for i in range(len(l)):\n",
    "        p=l[i]+i\n",
    "        l1.append(p)\n",
    "    return l1\n",
    "add_indexes([1, 2, 3, 4, 5])"
   ]
  },
  {
   "cell_type": "code",
   "execution_count": 9,
   "id": "60bfbcd6",
   "metadata": {},
   "outputs": [
    {
     "data": {
      "text/plain": [
       "12.57"
      ]
     },
     "execution_count": 9,
     "metadata": {},
     "output_type": "execute_result"
    }
   ],
   "source": [
    "\"\"\"3.Create a function that takes the height and radius of a cone as arguments and returns the volume of the cone rounded to \n",
    "the nearest hundredth. See the resources tab for the formula.\"\"\"\n",
    "import math \n",
    "def cone_volume(h,r):\n",
    "    return round((math.pi * r * r * h)/3,2)\n",
    "cone_volume(3, 2)"
   ]
  },
  {
   "cell_type": "code",
   "execution_count": 22,
   "id": "64ad8c6b",
   "metadata": {},
   "outputs": [
    {
     "data": {
      "text/plain": [
       "23220"
      ]
     },
     "execution_count": 22,
     "metadata": {},
     "output_type": "execute_result"
    }
   ],
   "source": [
    "\"\"\"4.This Triangular Number Sequence is generated from a pattern of dots that form a triangle. The first 5 numbers of\n",
    "the sequence, or dots, are: 1, 3, 6, 10, 15 This means that the first triangle has just one dot, the second one has \n",
    "three dots, the third one has 6 dots and so on. \n",
    "Write a function that gives the number of dots with its corresponding triangle number of the sequence.\"\"\"\n",
    "def triangular_series(n):\n",
    "     for i in range(1, n + 1):\n",
    "        k= (i*(i+1)//2)\n",
    "     return k\n",
    "triangular_series(215)"
   ]
  },
  {
   "cell_type": "code",
   "execution_count": 71,
   "id": "74b77777",
   "metadata": {},
   "outputs": [
    {
     "name": "stdout",
     "output_type": "stream",
     "text": [
      "4 "
     ]
    }
   ],
   "source": [
    "#5.Create a function that takes a list of numbers between 1 and 10 (excluding one number) and returns the missing number.\n",
    "import collections\n",
    "def missing_num(m):\n",
    "    m=list(set(m))\n",
    "    if len(m)==10:\n",
    "        print(\"1 to 10 are present...!\")\n",
    "    elif len(m)<=10:\n",
    "        for i in range(1,11):\n",
    "            if m[i]==i:\n",
    "                pass\n",
    "            else:\n",
    "                m.append(i)\n",
    "    n=collections.Counter(m)\n",
    "    for i in range(len(n)+1):\n",
    "        if n[i]==1:\n",
    "            print(i,end=\" \") \n",
    "missing_num([7, 2, 3, 6, 5, 9,10 ,1, 8])"
   ]
  },
  {
   "cell_type": "code",
   "execution_count": null,
   "id": "1adbec2a",
   "metadata": {},
   "outputs": [],
   "source": []
  },
  {
   "cell_type": "code",
   "execution_count": null,
   "id": "f1aeb5fe",
   "metadata": {},
   "outputs": [],
   "source": []
  }
 ],
 "metadata": {
  "kernelspec": {
   "display_name": "Python 3 (ipykernel)",
   "language": "python",
   "name": "python3"
  },
  "language_info": {
   "codemirror_mode": {
    "name": "ipython",
    "version": 3
   },
   "file_extension": ".py",
   "mimetype": "text/x-python",
   "name": "python",
   "nbconvert_exporter": "python",
   "pygments_lexer": "ipython3",
   "version": "3.9.7"
  }
 },
 "nbformat": 4,
 "nbformat_minor": 5
}
